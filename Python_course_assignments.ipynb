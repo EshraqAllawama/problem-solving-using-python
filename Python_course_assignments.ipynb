{
  "cells": [
    {
      "cell_type": "markdown",
      "metadata": {
        "id": "view-in-github",
        "colab_type": "text"
      },
      "source": [
        "<a href=\"https://colab.research.google.com/github/EshraqAllawama/problem-solving-using-python/blob/main/Python_course_assignments.ipynb\" target=\"_parent\"><img src=\"https://colab.research.google.com/assets/colab-badge.svg\" alt=\"Open In Colab\"/></a>"
      ]
    },
    {
      "cell_type": "markdown",
      "metadata": {
        "id": "Gp6yU7NH1v3b"
      },
      "source": [
        "#The First lecture\n",
        "\n"
      ]
    },
    {
      "cell_type": "code",
      "execution_count": null,
      "metadata": {
        "id": "zb1X4Ujj1rTj"
      },
      "outputs": [],
      "source": [
        "# The First Task\n",
        "# Task: Write single-line and multi-line comments explaining what the provided piece of code does.\n",
        "'''\n",
        " if enter 0 return 1 else\n",
        " calculate Factorial The number Enterd\n",
        "'''\n",
        "# the run last commend \"\"\" ''' if exist Many commends"
      ]
    },
    {
      "cell_type": "code",
      "execution_count": null,
      "metadata": {
        "id": "qyAIAFGW2SQA"
      },
      "outputs": [],
      "source": [
        "# The Second Task\n",
        "# Task: Use the print function to display the phrase \"Hello, Python!\"\n",
        "print(\"Hello,Python!.\")"
      ]
    },
    {
      "cell_type": "code",
      "execution_count": null,
      "metadata": {
        "id": "MW4kF9qH2U1m"
      },
      "outputs": [],
      "source": [
        "# The Third Task\n",
        "# Basic data types - CRUD operations:\n",
        "# Task: Create variables of each basic data type (integer, float, boolean, string), print their types using type(), update their values, and then delete them\n",
        "name = \"Eshraq\"\n",
        "number_f = 3.22\n",
        "number_int = 54\n",
        "cho_b = False\n",
        "print(type(name))\n",
        "print(type(number_f))\n",
        "print(type(number_int))\n",
        "print(type(cho_b))\n",
        "\n",
        "name = 32\n",
        "number_f = True\n",
        "number_int = \"Eshraq\"\n",
        "cho_b = 44.9\n",
        "\n",
        "del name\n",
        "del number_f\n",
        "del number_int\n",
        "del cho_b\n"
      ]
    },
    {
      "cell_type": "code",
      "execution_count": null,
      "metadata": {
        "id": "i3I8tsrr2Xpy"
      },
      "outputs": [],
      "source": [
        "# The Fourth Task\n",
        "# Math operations: Task: Write a script that asks the user for two numbers, then calculates and prints the sum,\n",
        "# difference, product, quotient, and remainder of the first number by the second number\n",
        "number1 = (int(input(\"Plz Enter The First value :\")))\n",
        "number2 = (int(input(\"Plz Enter The Second value :\")))\n",
        "print(number1+number2)\n",
        "print(number1-number2)\n",
        "print(number1/number2)\n",
        "print(number1*number2)\n",
        "print(number1//number2)\n",
        "print(number1**number2)"
      ]
    },
    {
      "cell_type": "code",
      "execution_count": null,
      "metadata": {
        "id": "sqAWIu_y2aMP"
      },
      "outputs": [],
      "source": [
        "# The Fifth Task\n",
        "# Logic operations:\n",
        "# Task: Write a script that asks the user for two boolean values (input as true/false strings),\n",
        "# then prints the results of the logical AND, logical OR, and logical NOT operations on the entered values\n",
        "value1 = bool(int(input(\"Plz Enter The First value :\")))\n",
        "value2 = bool(int(input(\"Plz Enter The Second value :\")))\n",
        "print(value1)\n",
        "print(value2 , end =\"\\n----------------\\n\")\n",
        "print(value1 or value2)\n",
        "print(value1 and value2)\n",
        "print(not value1)"
      ]
    },
    {
      "cell_type": "code",
      "execution_count": null,
      "metadata": {
        "id": "bVWK6xL02eFK"
      },
      "outputs": [],
      "source": [
        "# The sixth Task\n",
        "# Input:\n",
        "# Task: Write a program that asks the user for their name and age,\n",
        "# and then prints out a message addressed to them that tells them how many years they have until they turn 100.\n",
        "name = (input(\"Plz Enter Your name :\"))\n",
        "age = (int(input(\"Plz Enter Your age :\")))\n",
        "age = 100-age\n",
        "#age-=100 -> age = age-100 -> logical Error\n",
        "\n",
        "print(\"Hi {A} \\n There is still life left to reach 100 years {B}\".format(A=name,B = age))\n"
      ]
    },
    {
      "cell_type": "code",
      "execution_count": null,
      "metadata": {
        "id": "VfU0gkxL2gV0"
      },
      "outputs": [],
      "source": [
        "# The seventh Task\n",
        "# print(f\" {}\"):\n",
        "# Task: Write a script that asks the user for their name and favorite food. Then,\n",
        "# use an f-string to print a message saying \"{name} likes {favorite_food}\"\n",
        "name = (input(\"Plz Enter Your name :\"))\n",
        "Favorite_food = (input(\"Plz Enter Your Favorite_food :\"))\n",
        "print(f\"{name} likes {Favorite_food}\")\n"
      ]
    },
    {
      "cell_type": "markdown",
      "metadata": {
        "id": "REs5_5D73YU6"
      },
      "source": [
        "#The Second lecture"
      ]
    },
    {
      "cell_type": "code",
      "execution_count": null,
      "metadata": {
        "id": "WHOuvDbP3cwP"
      },
      "outputs": [],
      "source": [
        "# 1) (po or ni)\n",
        "# 1) Write a program that checks if a number is negative, and prints \"The number is negative\" if it is.\n",
        "num0 = int(input(\"plz Enter number !! \"))\n",
        "\n",
        "if num0>0:\n",
        " print(\"The number is po\")\n",
        "elif num0<0:\n",
        " print(\"The number is ni\")\n",
        "else:\n",
        " print(\"The number is Zero\")\n"
      ]
    },
    {
      "cell_type": "code",
      "execution_count": null,
      "metadata": {
        "id": "MjpoLd9V3dD7"
      },
      "outputs": [],
      "source": [
        "# 2) (even / odd)\n",
        "#Task 2) Write a program that checks if a number is odd, and prints \"The number is odd\" if it is.\n",
        "\n",
        "n = int(input(\"plz Enter number !! \"))\n",
        "\n",
        "if n % 2 == 1:\n",
        "  print(\"this odd\")\n",
        "else:\n",
        "  print(\"this even\")\n"
      ]
    },
    {
      "cell_type": "code",
      "execution_count": null,
      "metadata": {
        "id": "LAImL52v3djy"
      },
      "outputs": [],
      "source": [
        "# 3) Determining price categories based on age for a theme park\n",
        "# if age under 5, price 0,\n",
        "# age between 6 and 12  -> price 10\n",
        "# age between 13 and 65 -> price 20\n",
        "# age above 65 -> price 15\n",
        "\n",
        "age = int(input(\"your age !! \"))\n",
        "\n",
        "if age<=5:\n",
        " print(\"price is 0\")\n",
        "elif 6<=age<=12:\n",
        "  print(\"price is 10\")\n",
        "elif 13<=age and age<65:\n",
        "  print(\"price is 20\")\n",
        "else:\n",
        "  print(\"price is 15\")\n"
      ]
    },
    {
      "cell_type": "code",
      "execution_count": null,
      "metadata": {
        "id": "jZ-XA-f63d64"
      },
      "outputs": [],
      "source": [
        "# 4) Classifying a student's grade A, B, C, D, F\n",
        "grade = int(input(\"plz Enter your grade \"))\n",
        "\n",
        "if 90<=grade<=100:\n",
        " print(\"A\")\n",
        "elif 80<=grade and grade<90:\n",
        " print(\"B\")\n",
        "elif 70<=grade<80:\n",
        " print(\"C\")\n",
        "elif 60<=grade<70:\n",
        " print(\"D\")\n",
        "else:\n",
        " print(\"F\")\n"
      ]
    },
    {
      "cell_type": "code",
      "execution_count": null,
      "metadata": {
        "id": "JM6p-V7v3eUh"
      },
      "outputs": [],
      "source": [
        "# 5) check password\n",
        "# username = \"admin\"\n",
        "# password = \"123456\"\n",
        "\n",
        "u_1 = \"allawama\"\n",
        "p_1 = \"12@Ee\"\n",
        "u_2 =input(\"Username \")\n",
        "p_2 =input(\"Password\")\n",
        "\n",
        "if u_1 == u_2 and p_1 == p_2:\n",
        "  print(\"login :)\")\n",
        "else:\n",
        "  print(\"Try again :(\")\n",
        "\n"
      ]
    },
    {
      "cell_type": "code",
      "execution_count": null,
      "metadata": {
        "id": "7L-TbQ9Q3e8B"
      },
      "outputs": [],
      "source": [
        "# 6) dicount coupon\n",
        "# Discounts on a product based on a coupon code:DISCOUNT10 -> price - 10\n",
        "price_item = float(input(\"plz Price_item \"))\n",
        "coupon = input(\"Plz coupon code \")\n",
        "dicount_coupon = \"AA1320\"\n",
        "if (coupon == dicount_coupon):\n",
        "   print(\"you got the discount :)\")\n",
        "   print(\"Your discount 10% so price_item finally :\",end = \" \")\n",
        "   price_item-=(price_item/10)\n",
        "   print(price_item)\n",
        "else:\n",
        "  print(\"Sorry .. your coupon code Disabled :(\")\n"
      ]
    },
    {
      "cell_type": "code",
      "execution_count": null,
      "metadata": {
        "id": "18WeYIPk4Zkr"
      },
      "outputs": [],
      "source": [
        "#Tasks\n",
        "# 1) Print the square of each number in the list [1, 2, 3, 4, 5].\n",
        "i = 0\n",
        "ls = [1, 2, 3, 4, 5]\n",
        "while i<5:\n",
        "  print(ls[i]*ls[i],end =\" \")\n",
        "  i+=1\n",
        "\n",
        "print(\"\\n----------------------\")\n",
        "\n",
        "# 2) Print all numbers from 0 to 10 using a while loop.\n",
        "i = 0\n",
        "while i<11:\n",
        " print(i,end =\" \")\n",
        " i+=1\n",
        "\n",
        "print(\"\\n----------------------\")\n",
        "\n",
        "# 3) Count down from 10 to 1 and then print \"Blast off!\"\n",
        "i = 0\n",
        "while i<11:\n",
        " print(i,end = \" \")\n",
        " i+=1\n",
        "print(\"\\nBlast off!\")\n",
        "print(\"\\n----------------------\")\n",
        "\n",
        "# 4) Print all even numbers from the list [1, 2, 3, 4, 5, 6, 7, 8, 9, 10] in one line using a for loop.\n",
        "A = [1, 2, 3, 4, 5, 6, 7, 8, 9, 10]\n",
        "for i in A:print(i,end = \" \") if i%2 == 0 else print(end = \" \")"
      ]
    },
    {
      "cell_type": "code",
      "execution_count": null,
      "metadata": {
        "id": "FUwXvtkk4wtj"
      },
      "outputs": [],
      "source": [
        "#Task 1: Write a program that takes two numbers as inputs from the user and prints their sum\n",
        "Sum = lambda x,y: x+y\n",
        "x = int(input(\"Enter value 1 :\"))\n",
        "y = int(input(\"Enter value 2 :\"))\n",
        "print(\"The total :\",Sum(x,y))"
      ]
    },
    {
      "cell_type": "code",
      "execution_count": null,
      "metadata": {
        "id": "fthdAVOG4z83"
      },
      "outputs": [],
      "source": [
        "#Task 2: Write a program that takes an integer input from the user. Use a for loop to print all numbers from that integer down to 0\n",
        "\n",
        "# num = 5\n",
        "def Fun(num):\n",
        " for i in range(num+1):\n",
        "  #print(i,end =\" \")\n",
        "  print(num)\n",
        "  num-=1\n",
        "\n",
        "num = int(input(\"Enter Value : \"))\n",
        "Fun(num)"
      ]
    },
    {
      "cell_type": "code",
      "execution_count": null,
      "metadata": {
        "id": "QfA2GLxE40ZE"
      },
      "outputs": [],
      "source": [
        "#Task 3: Write a program that takes an integer input from the user. Use a while loop to keep doubling the number until it is greater than 1000, then print the result\n",
        "def greater (num_1):\n",
        "  while(num_1 <1000):\n",
        "    num_1*=2\n",
        "  return num_1\n",
        "num_1 = int(input(\"Enter Value : \"))\n",
        "print(greater(num_1))"
      ]
    },
    {
      "cell_type": "code",
      "execution_count": null,
      "metadata": {
        "id": "clACwHwQ40uK"
      },
      "outputs": [],
      "source": [
        "#Task 4: Write a function that takes a number as input and returns the square of the number. Use it in a program that takes an input from the user and prints the square.\n",
        "def square  (num_1):\n",
        "  num_1*=num_1\n",
        "  return num_1\n",
        "num_1 = int(input(\"Enter Value : \"))\n",
        "print(square(num_1))"
      ]
    },
    {
      "cell_type": "code",
      "execution_count": null,
      "metadata": {
        "id": "TqlIz7fE41B9"
      },
      "outputs": [],
      "source": [
        "#Task 5: Write a program that takes a number as input from the user. If the number is greater than 10, print \"Big number\". If the number is less than or equal to 10, print \"Small number\".\n",
        "def greater (num_1):\n",
        "  print(\"Big number\") if num_1>10 else print(\"Small number\")\n",
        "num_1 = int(input(\"Enter Value : \"))\n",
        "greater(num_1)"
      ]
    },
    {
      "cell_type": "code",
      "execution_count": null,
      "metadata": {
        "id": "QipWIx8O483A"
      },
      "outputs": [],
      "source": [
        "#Task 6: Write a function that takes two numbers as inputs and returns their product. Use this function in a program that takes two inputs from the user and prints the product.\n",
        "def product (num_1,num_2):\n",
        " print(\"The product = \",num_1*num_2)\n",
        "num_1 = int(input(\"Enter First Value : \"))\n",
        "num_2 = int(input(\"Enter Second Value : \"))\n",
        "product(num_1,num_2)"
      ]
    },
    {
      "cell_type": "code",
      "execution_count": null,
      "metadata": {
        "id": "F1B77TTB49UQ"
      },
      "outputs": [],
      "source": [
        "#Task 7: Write a program that uses a while loop to take a number as input from the user, subtract 5, and print the result. Continue this until the result is less than 0.\n",
        "def subtract (num_1):\n",
        "  if num_1 != 0 :\n",
        "   while(num_1>0):\n",
        "    num_1-=5\n",
        "   print(\"The finally result :\", num_1)\n",
        "  else:\n",
        "    print(\"The value is not accepted !!\")\n",
        "\n",
        "\n",
        "num_1 = int(input(\"Enter Value : \"))\n",
        "subtract(num_1)"
      ]
    },
    {
      "cell_type": "code",
      "execution_count": null,
      "metadata": {
        "colab": {
          "base_uri": "https://localhost:8080/"
        },
        "id": "6fQrWAxN49p6",
        "outputId": "905363dd-7bec-44e4-ae5e-7fd8ace25ec8"
      },
      "outputs": [
        {
          "name": "stdout",
          "output_type": "stream",
          "text": [
            "Enter Value : 3\n",
            "1 2 3 Fectorial The number is =  6\n"
          ]
        }
      ],
      "source": [
        "#Task 8: Write a program that uses a for loop to take an integer input from the user and print the factorial of that number.\n",
        "def f (a):\n",
        " for i in range(a):\n",
        "  if i == 0:\n",
        "    continue\n",
        "  else:\n",
        "   a=a*(i)\n",
        "  # print(i ,end = \" \")\n",
        " return a\n",
        "#another Sloution\n",
        "def f (a):\n",
        " d = 1    # range(start,end,steps)\n",
        " for i in range(1,a+1):\n",
        "   #a=a*(i)\n",
        "   d*=i\n",
        "   print(i ,end = \" \")\n",
        " return d\n",
        "\n",
        "a = int(input(\"Enter Value : \"))\n",
        "\n",
        "print (\"Fectorial The number is = \",f(a))"
      ]
    },
    {
      "cell_type": "code",
      "execution_count": null,
      "metadata": {
        "id": "uZ3JrTVG4-At"
      },
      "outputs": [],
      "source": [
        "#Task 9: Write a program that takes a number as input from the user. If the number is positive, print \"Positive\". If the number is negative, print \"Negative\". If the number is zero, print \"Zero\".\n",
        "\n",
        "def ch (n1):\n",
        " if n1>0:\n",
        "  print(\" The Number is Positive\")\n",
        " elif n1<0:\n",
        "  print(\"The Number is negative \")\n",
        " else:\n",
        "  print(\"The Number is zero\")\n",
        "\n",
        "n1 = int(input(\"Enter Value : \"))\n",
        "ch(n1)\n",
        "\n"
      ]
    },
    {
      "cell_type": "code",
      "execution_count": null,
      "metadata": {
        "id": "dc6XNVir4-bT"
      },
      "outputs": [],
      "source": [
        "#Task 10: Write a lambda function that takes two numbers as inputs and returns their division as a floating-point number. Use this function in a program that takes two inputs from the user and prints the division.\n",
        "\n",
        "division = lambda x,y : print(\"division Result = {A:.2}\".format(A =x/y))\n",
        "\n",
        "x = float(input(\"Enter Value_1 : \"))\n",
        "y = float(input(\"Enter Value_2 : \"))\n",
        "\n",
        "\n",
        "division(x,y)\n"
      ]
    },
    {
      "cell_type": "markdown",
      "metadata": {
        "id": "d62Yg3wHbgCr"
      },
      "source": [
        "#The Thrid lecture"
      ]
    },
    {
      "cell_type": "code",
      "source": [
        "#The First Task :Task: Write a function to count the number of vowels in a given string\n",
        "#First way\n",
        "#String\n",
        "#vowels in a given string -> A,a E,e I,i O,o U,u\n",
        "#string array of char\n",
        "\n",
        "def test(st):\n",
        "  y = 0;\n",
        "  for i in \"AaEeUuOoIi\":\n",
        "    y +=st.count(i)\n",
        "    #print(y)\n",
        "  return y\n",
        "\n",
        "st = \"EshraqI\"\n",
        "print(test(st))"
      ],
      "metadata": {
        "id": "aw_6-PnoXz7O"
      },
      "execution_count": null,
      "outputs": []
    },
    {
      "cell_type": "code",
      "source": [
        "#Second way\n",
        "def test(st):\n",
        "  y = 0;\n",
        "  for i in \"AaEeUuOoIi\":\n",
        "    if i in st:\n",
        "     y+=1\n",
        "  return y\n",
        "\n",
        "st = \"EshraqI\"\n",
        "print(test(st))"
      ],
      "metadata": {
        "id": "pwXqKYpzVCzL"
      },
      "execution_count": null,
      "outputs": []
    },
    {
      "cell_type": "code",
      "source": [
        "#The Second Task : Write a function that takes a string and returns the same string but with every second letter capitalized.\n",
        "\n",
        "def st(Name):\n",
        "  r = \"\"\n",
        "  for i,j in enumerate(Name):\n",
        "    if i % 2 == 1 :\n",
        "      r+=j.upper()\n",
        "    else:\n",
        "      r+=j\n",
        "  return r\n",
        "print(st(\"eshraq\"))"
      ],
      "metadata": {
        "id": "dFA2k0mpXvXd"
      },
      "execution_count": null,
      "outputs": []
    },
    {
      "cell_type": "code",
      "source": [
        "#Note\n",
        "i = enumerate(\"Eshraq\")\n",
        "for j,k in i:\n",
        "  print(j,k)"
      ],
      "metadata": {
        "id": "M9uS8VXcaWCT"
      },
      "execution_count": null,
      "outputs": []
    },
    {
      "cell_type": "code",
      "source": [
        "#Note\n",
        "r = \"Eshraq\"\n",
        "p = \"all\".join(r)\n",
        "print(p)"
      ],
      "metadata": {
        "colab": {
          "base_uri": "https://localhost:8080/"
        },
        "id": "goAh838-ZCGZ",
        "outputId": "9741726a-668e-4bdf-f1a6-c43e88bd2d62"
      },
      "execution_count": null,
      "outputs": [
        {
          "output_type": "stream",
          "name": "stdout",
          "text": [
            "Eallsallhallrallaallq\n"
          ]
        }
      ]
    },
    {
      "cell_type": "code",
      "source": [
        "#Task: Write a function that takes a list of numbers and returns a new list containing only the even numbers\n",
        "#list\n",
        "def test (x):\n",
        "  f = [i for i in x if i%2 == 0 ]\n",
        "  return f\n",
        "g = [1,2,3,4]\n",
        "print(test(g))"
      ],
      "metadata": {
        "id": "RQRecmKhPww3",
        "colab": {
          "base_uri": "https://localhost:8080/"
        },
        "outputId": "b2c98469-189c-43ab-d9d3-48b585f8c57d"
      },
      "execution_count": null,
      "outputs": [
        {
          "output_type": "stream",
          "name": "stdout",
          "text": [
            "[2, 4]\n"
          ]
        }
      ]
    },
    {
      "cell_type": "code",
      "source": [
        "#Task: Write a function that takes a list and returns a new list with duplicate values removed\n",
        "#list\n",
        "\n",
        "def test (x):\n",
        " return list(set(x))\n",
        "\n",
        "\n",
        "g = [1,2,3,2,4]\n",
        "print(test(g))\n",
        "\n"
      ],
      "metadata": {
        "id": "epjdjOHFRD3M",
        "colab": {
          "base_uri": "https://localhost:8080/"
        },
        "outputId": "9e287bab-eb99-4e24-f672-ca38de96e5c5"
      },
      "execution_count": null,
      "outputs": [
        {
          "output_type": "stream",
          "name": "stdout",
          "text": [
            "[1, 2, 3, 4]\n"
          ]
        }
      ]
    },
    {
      "cell_type": "code",
      "source": [
        "#Task: Write a function that takes two sets and returns their intersection as a new set\n",
        "#set\n",
        "def test (x,y):\n",
        " return x and y\n",
        "\n",
        "print(test({12,3,4},{3,4}))"
      ],
      "metadata": {
        "id": "89hvrVbbRf6K",
        "colab": {
          "base_uri": "https://localhost:8080/"
        },
        "outputId": "6cbc0912-d986-4eb4-f9cd-78f832e5428a"
      },
      "execution_count": null,
      "outputs": [
        {
          "output_type": "stream",
          "name": "stdout",
          "text": [
            "{3, 4}\n"
          ]
        }
      ]
    },
    {
      "cell_type": "code",
      "source": [
        "#Task: Write a function that takes two sets and returns their union as a new set.\n",
        "#set\n",
        "l =[]\n",
        "def test (x,y):\n",
        "  for i in x: # 12,3,4\n",
        "    for j in y: #3,2,4\n",
        "      if(i == j):\n",
        "       l.append(i)\n",
        "  return l\n",
        "  #  return x|y\n",
        "print(test({12,3,4},{3,2,4}))"
      ],
      "metadata": {
        "colab": {
          "base_uri": "https://localhost:8080/"
        },
        "id": "ZQvr_EV2VIkc",
        "outputId": "16b59714-f726-4473-c40a-dba3d4e672d4"
      },
      "execution_count": null,
      "outputs": [
        {
          "output_type": "stream",
          "name": "stdout",
          "text": [
            "{2, 3, 4, 12}\n"
          ]
        }
      ]
    },
    {
      "cell_type": "code",
      "source": [
        "#Second way\n",
        "#set\n",
        "def test (x,y):\n",
        "  b = x.union(y)\n",
        "  return b\n",
        "\n",
        "print(test({12,3,4},{3,4}))"
      ],
      "metadata": {
        "id": "40iU5LWAR9l_"
      },
      "execution_count": null,
      "outputs": []
    },
    {
      "cell_type": "code",
      "source": [
        "#Third way\n",
        "#set\n",
        "def test (x,y):\n",
        "  x.update(y)\n",
        "  return x\n",
        "\n",
        "print(test({12,3,4},{3,2,4}))"
      ],
      "metadata": {
        "id": "79-_IYyoV0p8"
      },
      "execution_count": null,
      "outputs": []
    },
    {
      "cell_type": "code",
      "source": [
        "# Task : Write a function that takes a list of tuples and sorts them based on the second element of each tuple\n",
        "#Tuple\n",
        "#The First way\n",
        "l = []\n",
        "def edit(h):\n",
        "  for i in range(0,3):\n",
        "    #h[0][1] h[1][1]\n",
        "    for j in range(i+1,4):\n",
        "     if(h[i][1] > h[j][1]):\n",
        "      l = h[i]\n",
        "      h[i] = h[j]\n",
        "      h[j] = l\n",
        "\n",
        "  return h\n",
        "h = [(1,3),(3,4),(3,-1),(8,0)]\n",
        "print(edit(h))"
      ],
      "metadata": {
        "colab": {
          "base_uri": "https://localhost:8080/"
        },
        "id": "1B3mv6wpqjIR",
        "outputId": "48cbdc03-046e-44a3-e9c4-1811b13357e8"
      },
      "execution_count": null,
      "outputs": [
        {
          "output_type": "stream",
          "name": "stdout",
          "text": [
            "[(3, -1), (8, 0), (1, 3), (3, 4)]\n"
          ]
        }
      ]
    },
    {
      "cell_type": "code",
      "source": [
        "#The Second way\n",
        "\n",
        "h = [(1,3),(3,4),(3,-1),(8,0)]\n",
        "\n",
        "print(sorted(h,key=lambda h:h[1])) # ordered based on second item in tuple\n"
      ],
      "metadata": {
        "id": "LhOimupDzH4K"
      },
      "execution_count": null,
      "outputs": []
    },
    {
      "cell_type": "code",
      "source": [
        "#Task : Write a function that takes a tuple and returns a reversed version of that tuple\n",
        "#Tuple\n",
        "def re(h):\n",
        "  return tuple(reversed(h))\n",
        "\n",
        "\n",
        "\n",
        "h = (1,3,4,2,3)\n",
        "print(re(h))"
      ],
      "metadata": {
        "id": "TvIJPUxB0fU-"
      },
      "execution_count": null,
      "outputs": []
    },
    {
      "cell_type": "code",
      "source": [
        "#second way\n",
        "def re(h):\n",
        "  return h[::-1]\n",
        "\n",
        "\n",
        "\n",
        "h = (1,3,4,2,3)\n",
        "print(re(h))"
      ],
      "metadata": {
        "colab": {
          "base_uri": "https://localhost:8080/"
        },
        "id": "_Bx_2Uoq1K5y",
        "outputId": "4b53f6f0-a89c-40a9-d85c-2108b1b929c1"
      },
      "execution_count": null,
      "outputs": [
        {
          "output_type": "stream",
          "name": "stdout",
          "text": [
            "((3, 2, 4, 3, 1), (1, 3, 4, 2, 3))\n"
          ]
        }
      ]
    },
    {
      "cell_type": "code",
      "source": [
        "#Task: Write a function that takes a dictionary and returns the keys and values as separate lists.\n",
        "#dictionary\n",
        "A = {1:\"Hi\",2:True,3:3.4,4:3+8j}\n",
        "\n",
        "print(list(A.values()),list(A.keys()))\n"
      ],
      "metadata": {
        "id": "Q3Vgfk2o1pVs"
      },
      "execution_count": null,
      "outputs": []
    },
    {
      "cell_type": "code",
      "source": [
        "#Task: Write a function that takes a dictionary and a key, and if the key exists in the dictionary, return its value. If the key does not exist, return a default value.\n",
        "#dictionary\n",
        "B = {1:\"Hi\",2:True,3:3.4,4:3+8j}\n",
        "#using if\n",
        "def ses(n):\n",
        "  if n in B:\n",
        "    print(B.get(n))\n",
        "  else:\n",
        "    return B.get(n,0)\n",
        "\n",
        "n = int(input())\n",
        "ses(n)"
      ],
      "metadata": {
        "id": "NDE1n5Oo4MH7"
      },
      "execution_count": null,
      "outputs": []
    },
    {
      "cell_type": "code",
      "source": [
        "#dictionary\n",
        "#second way\n",
        "B = {1:\"Hi\",2:True,3:3.4,4:3+8j}\n",
        "\n",
        "def ses(n):\n",
        "  return B.get(n,0)\n",
        "\n",
        "n = int(input())\n",
        "ses(n)"
      ],
      "metadata": {
        "id": "6QE8Gy1s-UD8"
      },
      "execution_count": null,
      "outputs": []
    },
    {
      "cell_type": "markdown",
      "source": [
        "#The Fifth lecture"
      ],
      "metadata": {
        "id": "F00yB4LFuxpP"
      }
    },
    {
      "cell_type": "markdown",
      "source": [
        "Inheritance\n",
        "\n",
        "Task: Create a parent class Shape with a method area that returns 0. Then, create two child classes, Rectangle and Circle. Rectangle has attributes width and height, Circle has an attribute radius. Override the area method in both child classes to calculate the area correctly (use 3.14 as an approximation for pi)"
      ],
      "metadata": {
        "id": "KDLxWg4YluNA"
      }
    },
    {
      "cell_type": "code",
      "source": [
        "from abc import ABC,abstractmethod\n",
        "class Shape(ABC) :\n",
        "  @abstractmethod\n",
        "  def area(self):\n",
        "    return 0\n",
        "\n",
        "class Rectangle(Shape):\n",
        "  def __init__(self,w,h):\n",
        "    self.width = w\n",
        "    self.height = h\n",
        "  def area(self):\n",
        "    print(\"The Area For Rectangle is :\",self.width*self.height)\n",
        "\n",
        "import math\n",
        "class  Circle (Shape):\n",
        "  def __init__(self,r):\n",
        "    self.radius = r\n",
        "  def area(self):\n",
        "    print(\"The Area For Circle is : \",pow(self.radius,2) * math.pi)\n"
      ],
      "metadata": {
        "id": "nBhp80e2u50o"
      },
      "execution_count": null,
      "outputs": []
    },
    {
      "cell_type": "code",
      "source": [
        "try:\n",
        " x,y = int(input(\"Enter The width :\")),int(input(\"Enter The height :\"))\n",
        " R = Rectangle(x,y)\n",
        " R.area()\n",
        "except:\n",
        "  print(\"Plz Enter a Numbers :(\")\n",
        "\n",
        "print(\"*\"*100)\n",
        "\n",
        "try:\n",
        " o = int(input(\"Enter The radius :\"))\n",
        " C = Circle(o)\n",
        " C.area()\n",
        "except:\n",
        " print(\"Plz Enter a Number :(\")"
      ],
      "metadata": {
        "id": "toTpDyTkokQJ"
      },
      "execution_count": null,
      "outputs": []
    },
    {
      "cell_type": "markdown",
      "source": [
        "Task: Expand on the previous task. Add a method print_info to the Shape class that prints out the type of shape and its area. For each child class, override this method to print the shape type (rectangle or circle), its specific attributes (width and height for rectangles, radius for circles), and its area"
      ],
      "metadata": {
        "id": "HYUncuZ_tn1M"
      }
    },
    {
      "cell_type": "code",
      "source": [
        "class Shape() :\n",
        "\n",
        "  def area(self):\n",
        "    pass # return 0\n",
        "\n",
        "  def print_info():\n",
        "    pass\n",
        "\n",
        "class Rectangle(Shape):\n",
        "  def __init__(self,w,h):\n",
        "    self.width = w\n",
        "    self.height = h\n",
        "\n",
        "  def area(self):\n",
        "    return self.width*self.height\n",
        "\n",
        "  def print_info(self):\n",
        "    print(\"The width for Rectangle is :\",self.width)\n",
        "    print(\"The height for Rectangle is :\",self.height)\n",
        "    print(\"The type of the Shape is Rectangle and it is area :\",R.area())\n",
        "\n",
        "import math\n",
        "class  Circle (Shape):\n",
        "  def __init__(self,r):\n",
        "    self.radius = r\n",
        "\n",
        "  def area(self):\n",
        "    return pow(self.radius,2) * math.pi\n",
        "\n",
        "  def print_info(self):\n",
        "    print(\"The radius for Circle is :\",self.radius)\n",
        "    print(\"The type of the Shape is Circle  and it is area :\",self.area())\n"
      ],
      "metadata": {
        "id": "ALHYjMRyttRS"
      },
      "execution_count": null,
      "outputs": []
    },
    {
      "cell_type": "code",
      "source": [
        "try:\n",
        " x,y = int(input(\"Enter The width :\")),int(input(\"Enter The height :\"))\n",
        " R = Rectangle(x,y)\n",
        " R.print_info()\n",
        "except:\n",
        " print(\"Plz Enter a Numbers :(\")\n",
        "\n",
        "print(\"*\"*100)\n",
        "\n",
        "try:\n",
        " o = int(input(\"Enter The radius :\"))\n",
        " C = Circle(o)\n",
        " C.print_info()\n",
        "except:\n",
        " print(\"Plz Enter a Number :(\")\n"
      ],
      "metadata": {
        "id": "tBS01HXrvNuF"
      },
      "execution_count": null,
      "outputs": []
    },
    {
      "cell_type": "markdown",
      "source": [
        "Task: Create a class BankAccount with private attributes account_number and balance. Provide getter methods for both (get_account_number, get_balance), and methods to deposit and withdraw money. Ensure that the withdraw method checks if there is enough balance before withdrawing"
      ],
      "metadata": {
        "id": "WmRlougi3ixc"
      }
    },
    {
      "cell_type": "code",
      "source": [
        "class BankAccount :\n",
        "  def __init__(self, account_number ,balance):\n",
        "     self.__account_number =  account_number\n",
        "     self.__balance = balance\n",
        "\n",
        "  def __get(self):\n",
        "    print(\"your account_number is : \",self.__account_number)\n",
        "    print(\"your balance is : \",self.__balance)\n",
        "\n",
        "  def set(self,oper):\n",
        "    if oper == \"deposit\":\n",
        "      p = int(input(\"Required value :\"))\n",
        "      self.__balance +=p\n",
        "      print(\"The operation succeeded :)\",f\"The current balance is {self.__balance}\")\n",
        "\n",
        "    elif oper ==  \"withdraw\":\n",
        "      y = int(input(\"Required value :\"))\n",
        "      if y>self.__balance and self.__balance < 0:\n",
        "        print(\"Your balance is insufficient\")\n",
        "      else :\n",
        "        self.__balance -=y\n",
        "        print(\"The operation succeeded :)\",f\"The current balance is {self.__balance}\")\n",
        "\n",
        "\n",
        "    else :\n",
        "      print(\"The operation not exist !! \")\n"
      ],
      "metadata": {
        "id": "eEP2_A0G3ico"
      },
      "execution_count": null,
      "outputs": []
    },
    {
      "cell_type": "code",
      "source": [
        "Account_sami = BankAccount(2343,700)"
      ],
      "metadata": {
        "id": "1lyBKE2iGiO5"
      },
      "execution_count": null,
      "outputs": []
    },
    {
      "cell_type": "code",
      "source": [
        "#Account_sami._BankAccount__get()\n",
        "x = input(\"what operation do want you perform !! ,deposit // withdraw \")\n",
        "Account_sami.set(x)"
      ],
      "metadata": {
        "id": "-IVihxXXBlF7"
      },
      "execution_count": null,
      "outputs": []
    },
    {
      "cell_type": "markdown",
      "source": [
        "Task 1: Inheritance\n",
        "\n",
        "Create a base class Animal that has a method speak() which prints \"I don't know what I say!\". Then create two derived classes Dog and Cat which override the speak() method. The speak() method in the Dog class should print \"Woof Woof!\" and the speak() method in the Cat class should print \"Meow Meow!\""
      ],
      "metadata": {
        "id": "etDJfFbXK8r9"
      }
    },
    {
      "cell_type": "code",
      "source": [
        "class Animal:\n",
        "  def speak(self):\n",
        "     print(\"I don't know what I say!\")\n",
        "\n",
        "class Dog(Animal):\n",
        "  def speak(self):\n",
        "    print(\"Woof Woof !!\")\n",
        "\n",
        "\n",
        "class cat(Animal):\n",
        "  def speak(self):\n",
        "    print(\"Meow Meow !!\")\n"
      ],
      "metadata": {
        "id": "MbXZaZb1K9k6"
      },
      "execution_count": null,
      "outputs": []
    },
    {
      "cell_type": "code",
      "source": [
        "A = Animal()\n",
        "D = Dog()\n",
        "C = cat()\n",
        "A.speak()\n",
        "C.speak()\n",
        "D.speak()"
      ],
      "metadata": {
        "id": "ETL8WllELi4t"
      },
      "execution_count": null,
      "outputs": []
    },
    {
      "cell_type": "markdown",
      "source": [
        "Task 2: Polymorphism\n",
        "\n",
        "Continuing from the above task, create a function animal_speak(animal) which accepts an Animal object and calls its speak() method. This demonstrates polymorphism because you can pass any object of a class derived from Animal to this function and it will work."
      ],
      "metadata": {
        "id": "qNjJmvJLL_FH"
      }
    },
    {
      "cell_type": "code",
      "source": [
        "class Animal:\n",
        "  def __init__(self,a,s):\n",
        "    self.animal = a\n",
        "    self.sound = s\n",
        "\n",
        "  def speak(self):\n",
        "     pass#print(\"I don't know what I say!\")\n",
        "\n",
        "  def animal_speak(self):\n",
        "      return \"The Name animal is \"+self.animal+\" and sound it \"+self.sound\n",
        "class Dog(Animal):\n",
        "  def speak(self):\n",
        "    print(\"Woof Woof !!\")\n",
        "\n",
        "\n",
        "class cat(Animal):\n",
        "  def speak(self):\n",
        "    print(\"Meow Meow !!\")\n"
      ],
      "metadata": {
        "id": "d6JDyKCzNYJy"
      },
      "execution_count": null,
      "outputs": []
    },
    {
      "cell_type": "code",
      "source": [
        "def animal_speak(animal,sound):\n",
        "  Test = Animal(animal,sound)\n",
        "  print(Test.animal_speak())\n",
        "\n"
      ],
      "metadata": {
        "id": "VF2gZY9BMAHB"
      },
      "execution_count": null,
      "outputs": []
    },
    {
      "cell_type": "code",
      "source": [
        "Name,sound = input(\"Enter the Name Animal : \"), input(\"Enter the Sound Animal : \")\n",
        "animal_speak(Name,sound)"
      ],
      "metadata": {
        "id": "I3K6j5lAPSsr"
      },
      "execution_count": null,
      "outputs": []
    },
    {
      "cell_type": "markdown",
      "source": [
        "Task 3: Encapsulation\n",
        "\n",
        "Create a class Car with two attributes: color (public) and __speed (private). The class should have methods accelerate() which increases the speed by 10 and get_speed() which returns the current speed. The __speed attribute should be modified only through the accelerate() method, demonstrating the principle of encapsulation"
      ],
      "metadata": {
        "id": "ScvaTTy3SMPL"
      }
    },
    {
      "cell_type": "code",
      "source": [
        "class car:\n",
        "  def __init__(self,color,speed):\n",
        "    self.color = color\n",
        "    self.__speed = speed\n",
        "\n",
        "  def accelerate(self):\n",
        "    self.__speed +=10\n",
        "\n",
        "\n",
        "  def get_speed(self):\n",
        "    return \"The speed Now \"+str(self.__speed)"
      ],
      "metadata": {
        "id": "v7LLiTnqSL6Y"
      },
      "execution_count": null,
      "outputs": []
    },
    {
      "cell_type": "code",
      "source": [
        "C = car(\"blue\",0)\n"
      ],
      "metadata": {
        "id": "QtZv1kNdxqrE"
      },
      "execution_count": null,
      "outputs": []
    },
    {
      "cell_type": "code",
      "source": [
        "C.accelerate()\n",
        "print(C.get_speed())"
      ],
      "metadata": {
        "colab": {
          "base_uri": "https://localhost:8080/"
        },
        "id": "FCJay-HqTk6w",
        "outputId": "a1db56bf-0923-47e1-b1f5-ee8c141a3208"
      },
      "execution_count": null,
      "outputs": [
        {
          "output_type": "stream",
          "name": "stdout",
          "text": [
            "The speed Now 30\n"
          ]
        }
      ]
    },
    {
      "cell_type": "markdown",
      "source": [
        "real-world example of a vehicle rental company:\n",
        "\n",
        "Each type of vehicle can be represented as a class (Car, Truck, Motorcycle), and each individual vehicle can be an instance (object) of their respective class.\n",
        "\n",
        "Common attributes for all vehicles could include vehicle_id, brand, model, year_of_manufacture, mileage, price_per_day.\n",
        "\n",
        "Common methods for all vehicles could include get_info() (to get vehicle details), rent() (to rent out the vehicle), return_vehicle() (to return the vehicle), calculate_rental_cost() (to calculate the cost based on the number of days the vehicle was rented).\n",
        "\n",
        "A base class Vehicle can be created with all the common attributes and methods. Then, Car, Truck and Motorcycle classes can inherit from the Vehicle class.\n",
        "\n",
        "If there are methods that behave differently for different types of vehicles, they can be overridden in the respective classes. For example, the calculate_rental_cost() might be different for cars, trucks, and motorcycles, so this method can be overridden in each class.\n",
        "\n",
        "The details like vehicle_id, brand, model, year_of_manufacture, mileage, price_per_day can be kept private, and public methods can be used to get and set these details. This is an example of encapsulation"
      ],
      "metadata": {
        "id": "nJzus9gyz-ms"
      }
    },
    {
      "cell_type": "code",
      "source": [
        "class vehicle:\n",
        "\n",
        "  def __init__(self,vehicle_id,brnd,model,year_of_manufacture,mileage,price_per_day):\n",
        "    self.__vehicle_id = vehicle_id\n",
        "    self.__brnd = brnd\n",
        "    self.__model =model\n",
        "    self.__year_of_manufacture = year_of_manufacture\n",
        "    self.__mileage = mileage\n",
        "    self.__price_per_day = price_per_day\n",
        "\n",
        "  def get_info(self):\n",
        "     print(f\"a vehicle_id : {self.__vehicle_id }\\nbrnd :{self.__brnd} \")\n",
        "     print(f\"model :{self.__model} \\nyear_of_manufacture :{self.__year_of_manufacture}\")\n",
        "     print(f\"mileage :{self.__mileage}\\nprice_per_day :{self.__price_per_day}\")\n",
        "\n",
        "  def rent(self):\n",
        "    print(\"The vehicle that was rented :\",self.__vehicle_id)\n",
        "    #print(f\"if you need rent My vehicle, you must pay :{self.__price_per_day*N_day}\")\n",
        "\n",
        "  def return_vehicle(self):\n",
        "    print(\"The vehicle is returned :\",self.__vehicle_id)\n",
        "\n",
        "  def calculate_rental_cost(self,N_day):\n",
        "       print(f\"if you need rent My vehicle, you must pay :{self.__price_per_day*N_day}\")\n",
        "\n",
        "\n",
        "\n",
        "class car(vehicle):\n",
        "    def __init__(self,vehicle_id,brnd,model,year_of_manufacture,mileage,price_per_day,N_doors):\n",
        "      super().__init__(vehicle_id,brnd,model,year_of_manufacture,mileage,price_per_day)\n",
        "      self.N_doors = N_doors\n",
        "\n",
        "    def get_info(self):\n",
        "      print(\"N_Doors :\",self.N_doors)\n",
        "      return super().get_info()\n",
        "\n",
        "\n",
        "class truck(vehicle):\n",
        "   def __init__(self,vehicle_id,brnd,model,year_of_manufacture,mileage,price_per_day,N_doors):\n",
        "      super().__init__(vehicle_id,brnd,model,year_of_manufacture,mileage,price_per_day)\n",
        "      self.N_doors = N_doors\n",
        "\n",
        "   def get_info(self):\n",
        "      print(\"N_Doors :\",self.N_doors)\n",
        "      return super().get_info()\n",
        "\n",
        "\n",
        "\n",
        "class motorcycle(vehicle):\n",
        "   def __init__(self,vehicle_id,brnd,model,year_of_manufacture,mileage,price_per_day,N_doors):\n",
        "      super().__init__(vehicle_id,brnd,model,year_of_manufacture,mileage,price_per_day)\n",
        "      self.N_doors = N_doors\n",
        "\n",
        "   def get_info(self):\n",
        "      print(\"N_Doors :\",self.N_doors)\n",
        "      return super().get_info()\n"
      ],
      "metadata": {
        "id": "LeX4RSMe0Az2"
      },
      "execution_count": null,
      "outputs": []
    },
    {
      "cell_type": "code",
      "source": [
        "C = car(10012,\"BMW\",\"car\",2003,\"2000 KmPH\",150,4)\n",
        "T = truck(200678,\"SAMS\",\"truck\",1984,\"1000 KmPH\",75,3)\n",
        "M = motorcycle(200001,\"hs\",\"motorcycle\",2000,\"1500 KmPH\",100,0)"
      ],
      "metadata": {
        "id": "ma_qzhU_0Myo"
      },
      "execution_count": null,
      "outputs": []
    },
    {
      "cell_type": "code",
      "source": [
        "print(\"Hi dear customer :)\")\n",
        "print(\"What vehicle do you want to rent today?\")\n",
        "x = input(\"1- Car \\n2- Truck \\n3- motorcycle : \")\n",
        "match x:\n",
        "   case \"1\":\n",
        "      C.get_info()\n",
        "      print(\"How many days do you want to rent it ? \",end = \"\")\n",
        "      C.calculate_rental_cost(int(input()))\n",
        "   case \"2\":\n",
        "      T.get_info()\n",
        "      print(\"How many days do you want to rent it ? \",end = \"\")\n",
        "      T.calculate_rental_cost(int(input()))\n",
        "   case \"3\":\n",
        "      M.get_info()\n",
        "      print(\"How many days do you want to rent it ? \",end = \"\")\n",
        "      M.calculate_rental_cost(int(input()))"
      ],
      "metadata": {
        "id": "GiDZS8EMEU35"
      },
      "execution_count": null,
      "outputs": []
    }
  ],
  "metadata": {
    "colab": {
      "provenance": [],
      "authorship_tag": "ABX9TyN8WlVqb2VcfuKq/09iROrI",
      "include_colab_link": true
    },
    "kernelspec": {
      "display_name": "Python 3",
      "name": "python3"
    },
    "language_info": {
      "name": "python"
    }
  },
  "nbformat": 4,
  "nbformat_minor": 0
}
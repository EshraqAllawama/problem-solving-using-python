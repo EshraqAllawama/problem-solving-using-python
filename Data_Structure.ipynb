{
  "nbformat": 4,
  "nbformat_minor": 0,
  "metadata": {
    "colab": {
      "provenance": [],
      "authorship_tag": "ABX9TyPM9bj+ndbNjamsMA8nVNtS",
      "include_colab_link": true
    },
    "kernelspec": {
      "name": "python3",
      "display_name": "Python 3"
    },
    "language_info": {
      "name": "python"
    }
  },
  "cells": [
    {
      "cell_type": "markdown",
      "metadata": {
        "id": "view-in-github",
        "colab_type": "text"
      },
      "source": [
        "<a href=\"https://colab.research.google.com/github/EshraqAllawama/problem-solving-using-python/blob/main/Data_Structure.ipynb\" target=\"_parent\"><img src=\"https://colab.research.google.com/assets/colab-badge.svg\" alt=\"Open In Colab\"/></a>"
      ]
    },
    {
      "cell_type": "code",
      "execution_count": null,
      "metadata": {
        "id": "jnpcwp8U_hEG"
      },
      "outputs": [],
      "source": [
        "#The First Task :Task: Write a function to count the number of vowels in a given string\n",
        "#First way\n",
        "#String\n",
        "#vowels in a given string -> A,a E,e I,i O,o U,u\n",
        "#string array of char\n",
        "\n",
        "def test(st):\n",
        "  y = 0;\n",
        "  for i in \"AaEeUuOoIi\":\n",
        "    y +=st.count(i)\n",
        "    #print(y)\n",
        "  return y\n",
        "\n",
        "st = \"EshraqI\"\n",
        "print(test(st))"
      ]
    },
    {
      "cell_type": "code",
      "source": [
        "#Second way\n",
        "def test(st):\n",
        "  y = 0;\n",
        "  for i in \"AaEeUuOoIi\":\n",
        "    if i in st:\n",
        "     y+=1\n",
        "  return y\n",
        "\n",
        "st = \"EshraqI\"\n",
        "print(test(st))"
      ],
      "metadata": {
        "id": "sedVUPX__rgw"
      },
      "execution_count": null,
      "outputs": []
    },
    {
      "cell_type": "code",
      "source": [
        "#Task : Write a function that takes a string and returns the same string but with every second letter capitalized.\n",
        "#String\n",
        "def st(Name):\n",
        "  r = \"\"\n",
        "  for i,j in enumerate(Name):\n",
        "    if i % 2 == 1 :\n",
        "      r+=j.upper()\n",
        "    else:\n",
        "      r+=j\n",
        "  return r\n",
        "print(st(\"eshraq\"))"
      ],
      "metadata": {
        "id": "N8ovZsgA_tbY"
      },
      "execution_count": null,
      "outputs": []
    },
    {
      "cell_type": "code",
      "source": [
        "#Task: Write a function that takes a list of numbers and returns a new list containing only the even numbers\n",
        "#list\n",
        "def test (x):\n",
        "  f = [i for i in x if i%2 == 0 ]\n",
        "  return f\n",
        "g = [1,2,3,4]\n",
        "print(test(g))"
      ],
      "metadata": {
        "id": "vrvQqSti_7Fg"
      },
      "execution_count": null,
      "outputs": []
    },
    {
      "cell_type": "code",
      "source": [
        "#Task: Write a function that takes a list and returns a new list with duplicate values removed\n",
        "#list\n",
        "\n",
        "def test (x):\n",
        " return list(set(x))\n",
        "\n",
        "\n",
        "g = [1,2,3,2,4]\n",
        "print(test(g))\n",
        "\n"
      ],
      "metadata": {
        "id": "BwdviZ-7_-Zp"
      },
      "execution_count": null,
      "outputs": []
    },
    {
      "cell_type": "code",
      "source": [
        "#Task: Write a function that takes two sets and returns their intersection as a new set\n",
        "#set\n",
        "def test (x,y):\n",
        " return x and y\n",
        "\n",
        "print(test({12,3,4},{3,4}))"
      ],
      "metadata": {
        "id": "bojV0rqiAGaS"
      },
      "execution_count": null,
      "outputs": []
    },
    {
      "cell_type": "code",
      "source": [
        "#Second way\n",
        "#set\n",
        "def test (x,y):\n",
        "  b = x.union(y)\n",
        "  return b\n",
        "\n",
        "print(test({12,3,4},{3,4}))"
      ],
      "metadata": {
        "id": "FKhHwupVAKsn"
      },
      "execution_count": null,
      "outputs": []
    },
    {
      "cell_type": "code",
      "source": [
        "#Third way\n",
        "#set\n",
        "def test (x,y):\n",
        "  x.update(y)\n",
        "  return x\n",
        "\n",
        "print(test({12,3,4},{3,2,4}))"
      ],
      "metadata": {
        "id": "QiqECiczAONW"
      },
      "execution_count": null,
      "outputs": []
    },
    {
      "cell_type": "code",
      "source": [
        "# Task : Write a function that takes a list of tuples and sorts them based on the second element of each tuple\n",
        "#Tuple\n",
        "#The First way\n",
        "l = []\n",
        "def edit(h):\n",
        "  for i in range(0,3):\n",
        "    #h[0][1] h[1][1]\n",
        "    for j in range(i+1,4):\n",
        "     if(h[i][1] > h[j][1]):\n",
        "      l = h[i]\n",
        "      h[i] = h[j]\n",
        "      h[j] = l\n",
        "\n",
        "  return h\n",
        "h = [(1,3),(3,4),(3,-1),(8,0)]\n",
        "print(edit(h))"
      ],
      "metadata": {
        "id": "1r74GOoKAP_8"
      },
      "execution_count": null,
      "outputs": []
    },
    {
      "cell_type": "code",
      "source": [
        "#The Second way\n",
        "\n",
        "h = [(1,3),(3,4),(3,-1),(8,0)]\n",
        "\n",
        "print(sorted(h,key=lambda h:h[1])) # ordered based on second item in tuple\n"
      ],
      "metadata": {
        "id": "49_xkKmKAVZV"
      },
      "execution_count": null,
      "outputs": []
    },
    {
      "cell_type": "code",
      "source": [
        "#Task : Write a function that takes a tuple and returns a reversed version of that tuple\n",
        "#Tuple\n",
        "def re(h):\n",
        "  return tuple(reversed(h))\n",
        "\n",
        "\n",
        "\n",
        "h = (1,3,4,2,3)\n",
        "print(re(h))"
      ],
      "metadata": {
        "id": "x0iXe6aJAX1H"
      },
      "execution_count": null,
      "outputs": []
    },
    {
      "cell_type": "code",
      "source": [
        "#second way\n",
        "def re(h):\n",
        "  return h[::-1]\n",
        "\n",
        "\n",
        "\n",
        "h = (1,3,4,2,3)\n",
        "print(re(h))"
      ],
      "metadata": {
        "id": "W1FQVu7RAbEn"
      },
      "execution_count": null,
      "outputs": []
    },
    {
      "cell_type": "code",
      "source": [
        "#Task: Write a function that takes a dictionary and returns the keys and values as separate lists.\n",
        "#dictionary\n",
        "A = {1:\"Hi\",2:True,3:3.4,4:3+8j}\n",
        "\n",
        "print(list(A.values()),list(A.keys()))\n"
      ],
      "metadata": {
        "id": "Q3G15BPYAc_f"
      },
      "execution_count": null,
      "outputs": []
    },
    {
      "cell_type": "code",
      "source": [
        "#Task: Write a function that takes a dictionary and a key, and if the key exists in the dictionary, return its value. If the key does not exist, return a default value.\n",
        "#dictionary\n",
        "B = {1:\"Hi\",2:True,3:3.4,4:3+8j}\n",
        "#using if\n",
        "def ses(n):\n",
        "  if n in B:\n",
        "    print(B.get(n))\n",
        "  else:\n",
        "    return B.get(n,0)\n",
        "\n",
        "n = int(input())\n",
        "ses(n)"
      ],
      "metadata": {
        "id": "u6AGVIhxAfkX"
      },
      "execution_count": null,
      "outputs": []
    },
    {
      "cell_type": "code",
      "source": [
        "#dictionary\n",
        "#second way\n",
        "B = {1:\"Hi\",2:True,3:3.4,4:3+8j}\n",
        "\n",
        "def ses(n):\n",
        "  return B.get(n,0)\n",
        "\n",
        "n = int(input())\n",
        "ses(n)"
      ],
      "metadata": {
        "id": "pGbOHNwvAgnq"
      },
      "execution_count": null,
      "outputs": []
    }
  ]
}

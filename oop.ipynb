{
  "nbformat": 4,
  "nbformat_minor": 0,
  "metadata": {
    "colab": {
      "provenance": [],
      "toc_visible": true,
      "authorship_tag": "ABX9TyNXpMtbBAk8PglDZpeZY/5M",
      "include_colab_link": true
    },
    "kernelspec": {
      "name": "python3",
      "display_name": "Python 3"
    },
    "language_info": {
      "name": "python"
    }
  },
  "cells": [
    {
      "cell_type": "markdown",
      "metadata": {
        "id": "view-in-github",
        "colab_type": "text"
      },
      "source": [
        "<a href=\"https://colab.research.google.com/github/EshraqAllawama/problem-solving-using-python/blob/main/oop.ipynb\" target=\"_parent\"><img src=\"https://colab.research.google.com/assets/colab-badge.svg\" alt=\"Open In Colab\"/></a>"
      ]
    },
    {
      "cell_type": "markdown",
      "source": [
        "#Inheritance\n"
      ],
      "metadata": {
        "id": "sVkiT5akBg-n"
      }
    },
    {
      "cell_type": "markdown",
      "source": [
        "Task: Create a parent class Shape with a method area that returns 0. Then, create two child classes, Rectangle and Circle. Rectangle has attributes width and height, Circle has an attribute radius. Override the area method in both child classes to calculate the area correctly (use 3.14 as an approximation for pi)"
      ],
      "metadata": {
        "id": "6qJXRXiRBjE8"
      }
    },
    {
      "cell_type": "code",
      "source": [
        "from abc import ABC,abstractmethod\n",
        "class Shape(ABC) :\n",
        "  @abstractmethod\n",
        "  def area(self):\n",
        "    return 0\n",
        "\n",
        "class Rectangle(Shape):\n",
        "  def __init__(self,w,h):\n",
        "    self.width = w\n",
        "    self.height = h\n",
        "  def area(self):\n",
        "    print(\"The Area For Rectangle is :\",self.width*self.height)\n",
        "\n",
        "import math\n",
        "class  Circle (Shape):\n",
        "  def __init__(self,r):\n",
        "    self.radius = r\n",
        "  def area(self):\n",
        "    print(\"The Area For Circle is : \",pow(self.radius,2) * math.pi)\n"
      ],
      "metadata": {
        "id": "WaXjOLqGBgwi"
      },
      "execution_count": null,
      "outputs": []
    },
    {
      "cell_type": "code",
      "execution_count": null,
      "metadata": {
        "id": "jHG5jP3XBcVW"
      },
      "outputs": [],
      "source": [
        "try:\n",
        " x,y = int(input(\"Enter The width :\")),int(input(\"Enter The height :\"))\n",
        " R = Rectangle(x,y)\n",
        " R.area()\n",
        "except:\n",
        "  print(\"Plz Enter a Numbers :(\")\n",
        "\n",
        "print(\"*\"*100)\n",
        "\n",
        "try:\n",
        " o = int(input(\"Enter The radius :\"))\n",
        " C = Circle(o)\n",
        " C.area()\n",
        "except:\n",
        " print(\"Plz Enter a Number :(\")"
      ]
    },
    {
      "cell_type": "markdown",
      "source": [
        "Create a base class Animal that has a method speak() which prints \"I don't know what I say!\". Then create two derived classes Dog and Cat which override the speak() method. The speak() method in the Dog class should print \"Woof Woof!\" and the speak() method in the Cat class should print \"Meow Meow!\""
      ],
      "metadata": {
        "id": "bcnrdS_CCl30"
      }
    },
    {
      "cell_type": "code",
      "source": [
        "class Animal:\n",
        "  def speak(self):\n",
        "     print(\"I don't know what I say!\")\n",
        "\n",
        "class Dog(Animal):\n",
        "  def speak(self):\n",
        "    print(\"Woof Woof !!\")\n",
        "\n",
        "\n",
        "class cat(Animal):\n",
        "  def speak(self):\n",
        "    print(\"Meow Meow !!\")\n"
      ],
      "metadata": {
        "id": "MduUHQkjCmvs"
      },
      "execution_count": null,
      "outputs": []
    },
    {
      "cell_type": "code",
      "source": [
        "A = Animal()\n",
        "D = Dog()\n",
        "C = cat()\n",
        "A.speak()\n",
        "C.speak()\n",
        "D.speak()"
      ],
      "metadata": {
        "id": "Xn0LM74YCrL6"
      },
      "execution_count": null,
      "outputs": []
    },
    {
      "cell_type": "markdown",
      "source": [
        "Employee and Manger"
      ],
      "metadata": {
        "id": "06pJkdh1D2yF"
      }
    },
    {
      "cell_type": "code",
      "source": [
        "#inheritance(single)\n",
        "class Employee:\n",
        "  test = 0\n",
        "  def __init__(self,Name,Age,Id) -> None:\n",
        "      self.Name = Name;\n",
        "      self.Age = Age;\n",
        "      self.Id = Id;\n",
        "\n",
        "  def cout_0(self):\n",
        "     print (f\"My Name is {self.Name},and my age is {self.Age},{self.Id}\",end = \" \")\n",
        "  def __str__(self) -> str:\n",
        "    return f\"My Name is {self.Name},and my age is {self.Age} {self.Id} \"\n",
        "\n",
        "class Manger(Employee):\n",
        "  def __init__(self,Name,Age,Id,pos) -> None:\n",
        "      super().__init__(Name,Age,Id)\n",
        "      self.pos = pos\n",
        "\n",
        "  def cout_1(self):\n",
        "     #M.cout_0()\n",
        "     super().cout_0() # Super used in inheritance with all Method until Spical Method\n",
        "     print (f\"{self.pos}\")\n",
        "\n",
        "  def __str__(self) -> str:\n",
        "    return super().__str__() + self.pos"
      ],
      "metadata": {
        "id": "9Rob-69PD5wO"
      },
      "execution_count": null,
      "outputs": []
    },
    {
      "cell_type": "code",
      "source": [
        "M = Manger(\"Eshraq\",20,32455,\"Manger\")\n",
        "E = Employee(\"Taqi\",44,1234,)\n",
        " #M.cout_1()\n",
        " #M.cout_0()\n",
        "print(M)"
      ],
      "metadata": {
        "id": "a6CxH6nQD9MZ"
      },
      "execution_count": null,
      "outputs": []
    },
    {
      "cell_type": "markdown",
      "source": [
        "#Polymorphism"
      ],
      "metadata": {
        "id": "UUWB1g3pCDWS"
      }
    },
    {
      "cell_type": "markdown",
      "source": [
        "Task: Expand on the previous task. Add a method print_info to the Shape class that prints out the type of shape and its area. For each child class, override this method to print the shape type (rectangle or circle), its specific attributes (width and height for rectangles, radius for circles), and its area"
      ],
      "metadata": {
        "id": "cXjAAy4eBul3"
      }
    },
    {
      "cell_type": "code",
      "source": [
        "class Shape() :\n",
        "\n",
        "  def area(self):\n",
        "    pass # return 0\n",
        "\n",
        "  def print_info():\n",
        "    pass\n",
        "\n",
        "class Rectangle(Shape):\n",
        "  def __init__(self,w,h):\n",
        "    self.width = w\n",
        "    self.height = h\n",
        "\n",
        "  def area(self):\n",
        "    return self.width*self.height\n",
        "\n",
        "  def print_info(self):\n",
        "    print(\"The width for Rectangle is :\",self.width)\n",
        "    print(\"The height for Rectangle is :\",self.height)\n",
        "    print(\"The type of the Shape is Rectangle and it is area :\",R.area())\n",
        "\n",
        "import math\n",
        "class  Circle (Shape):\n",
        "  def __init__(self,r):\n",
        "    self.radius = r\n",
        "\n",
        "  def area(self):\n",
        "    return pow(self.radius,2) * math.pi\n",
        "\n",
        "  def print_info(self):\n",
        "    print(\"The radius for Circle is :\",self.radius)\n",
        "    print(\"The type of the Shape is Circle  and it is area :\",self.area())\n"
      ],
      "metadata": {
        "id": "qMtImrjcBuWk"
      },
      "execution_count": null,
      "outputs": []
    },
    {
      "cell_type": "code",
      "source": [
        "try:\n",
        " x,y = int(input(\"Enter The width :\")),int(input(\"Enter The height :\"))\n",
        " R = Rectangle(x,y)\n",
        " R.print_info()\n",
        "except:\n",
        " print(\"Plz Enter a Numbers :(\")\n",
        "\n",
        "print(\"*\"*100)\n",
        "\n",
        "try:\n",
        " o = int(input(\"Enter The radius :\"))\n",
        " C = Circle(o)\n",
        " C.print_info()\n",
        "except:\n",
        " print(\"Plz Enter a Number :(\")\n"
      ],
      "metadata": {
        "id": "uBOAOQOlBy6Z"
      },
      "execution_count": null,
      "outputs": []
    },
    {
      "cell_type": "markdown",
      "source": [
        "Continuing from the above task, create a function animal_speak(animal) which accepts an Animal object and calls its speak() method. This demonstrates polymorphism because you can pass any object of a class derived from Animal to this function and it will work"
      ],
      "metadata": {
        "id": "W8Aa2hJKCuhb"
      }
    },
    {
      "cell_type": "code",
      "source": [
        "class Animal:\n",
        "  def __init__(self,a,s):\n",
        "    self.animal = a\n",
        "    self.sound = s\n",
        "\n",
        "  def speak(self):\n",
        "     pass#print(\"I don't know what I say!\")\n",
        "\n",
        "  def animal_speak(self):\n",
        "      return \"The Name animal is \"+self.animal+\" and sound it \"+self.sound\n",
        "class Dog(Animal):\n",
        "  def speak(self):\n",
        "    print(\"Woof Woof !!\")\n",
        "\n",
        "\n",
        "class cat(Animal):\n",
        "  def speak(self):\n",
        "    print(\"Meow Meow !!\")\n"
      ],
      "metadata": {
        "id": "UAfFwxIICvCt"
      },
      "execution_count": null,
      "outputs": []
    },
    {
      "cell_type": "code",
      "source": [
        "def animal_speak(animal,sound):\n",
        "  Test = Animal(animal,sound)\n",
        "  print(Test.animal_speak())"
      ],
      "metadata": {
        "id": "TtwJywFKCxkk"
      },
      "execution_count": null,
      "outputs": []
    },
    {
      "cell_type": "code",
      "source": [
        "Name,sound = input(\"Enter the Name Animal : \"), input(\"Enter the Sound Animal : \")\n",
        "animal_speak(Name,sound)"
      ],
      "metadata": {
        "id": "wwLlA6lVC1Bh"
      },
      "execution_count": null,
      "outputs": []
    },
    {
      "cell_type": "markdown",
      "source": [
        "#Encapsulation"
      ],
      "metadata": {
        "id": "1i8QOwmNCV4P"
      }
    },
    {
      "cell_type": "markdown",
      "source": [
        "Task: Create a class BankAccount with private attributes account_number and balance. Provide getter methods for both (get_account_number, get_balance), and methods to deposit and withdraw money. Ensure that the withdraw method checks if there is enough balance before withdrawing"
      ],
      "metadata": {
        "id": "BmQw_j5iCYZC"
      }
    },
    {
      "cell_type": "code",
      "source": [
        "class BankAccount :\n",
        "  def __init__(self, account_number ,balance):\n",
        "     self.__account_number =  account_number\n",
        "     self.__balance = balance\n",
        "\n",
        "  def __get(self):\n",
        "    print(\"your account_number is : \",self.__account_number)\n",
        "    print(\"your balance is : \",self.__balance)\n",
        "\n",
        "  def set(self,oper):\n",
        "    if oper == \"deposit\":\n",
        "      p = int(input(\"Required value :\"))\n",
        "      self.__balance +=p\n",
        "      print(\"The operation succeeded :)\",f\"The current balance is {self.__balance}\")\n",
        "\n",
        "    elif oper ==  \"withdraw\":\n",
        "      y = int(input(\"Required value :\"))\n",
        "      if y>self.__balance and self.__balance < 0:\n",
        "        print(\"Your balance is insufficient\")\n",
        "      else :\n",
        "        self.__balance -=y\n",
        "        print(\"The operation succeeded :)\",f\"The current balance is {self.__balance}\")\n",
        "\n",
        "\n",
        "    else :\n",
        "      print(\"The operation not exist !! \")\n"
      ],
      "metadata": {
        "id": "aAfjsSasCbBd"
      },
      "execution_count": null,
      "outputs": []
    },
    {
      "cell_type": "code",
      "source": [
        "Account_sami = BankAccount(2343,700)"
      ],
      "metadata": {
        "id": "5M3O48FwCdJI"
      },
      "execution_count": null,
      "outputs": []
    },
    {
      "cell_type": "code",
      "source": [
        "#Account_sami._BankAccount__get()\n",
        "x = input(\"what operation do want you perform !! ,deposit // withdraw \")\n",
        "Account_sami.set(x)"
      ],
      "metadata": {
        "id": "btK3lrsvCgck"
      },
      "execution_count": null,
      "outputs": []
    },
    {
      "cell_type": "markdown",
      "source": [
        "Create a class Car with two attributes: color (public) and __speed (private). The class should have methods accelerate() which increases the speed by 10 and get_speed() which returns the current speed. The __speed attribute should be modified only through the accelerate() method, demonstrating the principle of encapsulation"
      ],
      "metadata": {
        "id": "mPPiN482C5NB"
      }
    },
    {
      "cell_type": "code",
      "source": [
        "class car:\n",
        "  def __init__(self,color,speed):\n",
        "    self.color = color\n",
        "    self.__speed = speed\n",
        "\n",
        "  def accelerate(self):\n",
        "    self.__speed +=10\n",
        "\n",
        "\n",
        "  def get_speed(self):\n",
        "    return \"The speed Now \"+str(self.__speed)"
      ],
      "metadata": {
        "id": "QMa59yEHC8D1"
      },
      "execution_count": null,
      "outputs": []
    },
    {
      "cell_type": "code",
      "source": [
        "C = car(\"blue\",0)"
      ],
      "metadata": {
        "id": "4vOa-clPC-K8"
      },
      "execution_count": null,
      "outputs": []
    },
    {
      "cell_type": "code",
      "source": [
        "C.accelerate()\n",
        "print(C.get_speed())"
      ],
      "metadata": {
        "id": "brH7nBskC_tA"
      },
      "execution_count": null,
      "outputs": []
    },
    {
      "cell_type": "markdown",
      "source": [
        "#real-world example of a vehicle rental company:"
      ],
      "metadata": {
        "id": "c2aAQwJhDF0q"
      }
    },
    {
      "cell_type": "markdown",
      "source": [
        "Each type of vehicle can be represented as a class (Car, Truck, Motorcycle), and each individual vehicle can be an instance (object) of their respective class.\n",
        "\n",
        "Common attributes for all vehicles could include vehicle_id, brand, model, year_of_manufacture, mileage, price_per_day.\n",
        "\n",
        "Common methods for all vehicles could include get_info() (to get vehicle details), rent() (to rent out the vehicle), return_vehicle() (to return the vehicle), calculate_rental_cost() (to calculate the cost based on the number of days the vehicle was rented).\n",
        "\n",
        "A base class Vehicle can be created with all the common attributes and methods. Then, Car, Truck and Motorcycle classes can inherit from the Vehicle class.\n",
        "\n",
        "If there are methods that behave differently for different types of vehicles, they can be overridden in the respective classes. For example, the calculate_rental_cost() might be different for cars, trucks, and motorcycles, so this method can be overridden in each class.\n",
        "\n",
        "The details like vehicle_id, brand, model, year_of_manufacture, mileage, price_per_day can be kept private, and public methods can be used to get and set these details. This is an example of encapsulation"
      ],
      "metadata": {
        "id": "uBJgig2MDDmG"
      }
    },
    {
      "cell_type": "code",
      "source": [
        "class vehicle:\n",
        "\n",
        "  def __init__(self,vehicle_id,brnd,model,year_of_manufacture,mileage,price_per_day):\n",
        "    self.__vehicle_id = vehicle_id\n",
        "    self.__brnd = brnd\n",
        "    self.__model =model\n",
        "    self.__year_of_manufacture = year_of_manufacture\n",
        "    self.__mileage = mileage\n",
        "    self.__price_per_day = price_per_day\n",
        "\n",
        "  def get_info(self):\n",
        "     print(f\"a vehicle_id : {self.__vehicle_id }\\nbrnd :{self.__brnd} \")\n",
        "     print(f\"model :{self.__model} \\nyear_of_manufacture :{self.__year_of_manufacture}\")\n",
        "     print(f\"mileage :{self.__mileage}\\nprice_per_day :{self.__price_per_day}\")\n",
        "\n",
        "  def rent(self):\n",
        "    print(\"The vehicle that was rented :\",self.__vehicle_id)\n",
        "    #print(f\"if you need rent My vehicle, you must pay :{self.__price_per_day*N_day}\")\n",
        "\n",
        "  def return_vehicle(self):\n",
        "    print(\"The vehicle is returned :\",self.__vehicle_id)\n",
        "\n",
        "  def calculate_rental_cost(self,N_day):\n",
        "       print(f\"if you need rent My vehicle, you must pay :{self.__price_per_day*N_day}\")\n",
        "\n",
        "\n",
        "\n",
        "class car(vehicle):\n",
        "    def __init__(self,vehicle_id,brnd,model,year_of_manufacture,mileage,price_per_day,N_doors):\n",
        "      super().__init__(vehicle_id,brnd,model,year_of_manufacture,mileage,price_per_day)\n",
        "      self.N_doors = N_doors\n",
        "\n",
        "    def get_info(self):\n",
        "      print(\"N_Doors :\",self.N_doors)\n",
        "      return super().get_info()\n",
        "\n",
        "\n",
        "class truck(vehicle):\n",
        "   def __init__(self,vehicle_id,brnd,model,year_of_manufacture,mileage,price_per_day,N_doors):\n",
        "      super().__init__(vehicle_id,brnd,model,year_of_manufacture,mileage,price_per_day)\n",
        "      self.N_doors = N_doors\n",
        "\n",
        "   def get_info(self):\n",
        "      print(\"N_Doors :\",self.N_doors)\n",
        "      return super().get_info()\n",
        "\n",
        "\n",
        "\n",
        "class motorcycle(vehicle):\n",
        "   def __init__(self,vehicle_id,brnd,model,year_of_manufacture,mileage,price_per_day,N_doors):\n",
        "      super().__init__(vehicle_id,brnd,model,year_of_manufacture,mileage,price_per_day)\n",
        "      self.N_doors = N_doors\n",
        "\n",
        "   def get_info(self):\n",
        "      print(\"N_Doors :\",self.N_doors)\n",
        "      return super().get_info()\n"
      ],
      "metadata": {
        "id": "U1uMjE8JDHa3"
      },
      "execution_count": null,
      "outputs": []
    },
    {
      "cell_type": "code",
      "source": [
        "C = car(10012,\"BMW\",\"car\",2003,\"2000 KmPH\",150,4)\n",
        "T = truck(200678,\"SAMS\",\"truck\",1984,\"1000 KmPH\",75,3)\n",
        "M = motorcycle(200001,\"hs\",\"motorcycle\",2000,\"1500 KmPH\",100,0)"
      ],
      "metadata": {
        "id": "71LKXdGDDMLY"
      },
      "execution_count": null,
      "outputs": []
    },
    {
      "cell_type": "code",
      "source": [
        "print(\"Hi dear customer :)\")\n",
        "print(\"What vehicle do you want to rent today?\")\n",
        "x = input(\"1- Car \\n2- Truck \\n3- motorcycle : \")\n",
        "match x:\n",
        "   case \"1\":\n",
        "      C.get_info()\n",
        "      print(\"How many days do you want to rent it ? \",end = \"\")\n",
        "      C.calculate_rental_cost(int(input()))\n",
        "   case \"2\":\n",
        "      T.get_info()\n",
        "      print(\"How many days do you want to rent it ? \",end = \"\")\n",
        "      T.calculate_rental_cost(int(input()))\n",
        "   case \"3\":\n",
        "      M.get_info()\n",
        "      print(\"How many days do you want to rent it ? \",end = \"\")\n",
        "      M.calculate_rental_cost(int(input()))"
      ],
      "metadata": {
        "id": "_TSWwAicDNpE"
      },
      "execution_count": null,
      "outputs": []
    },
    {
      "cell_type": "markdown",
      "source": [
        "#Abstraction"
      ],
      "metadata": {
        "id": "iwBTJGALEAzs"
      }
    },
    {
      "cell_type": "code",
      "source": [
        "from abc import ABC ,abstractmethod\n",
        "class super(ABC):\n",
        " # t = 0\n",
        "  @abstractmethod\n",
        "  def CaL_perimeter(self):\n",
        "    pass\n",
        "\n",
        "  @abstractmethod\n",
        "  def CaL_area(self):\n",
        "    pass\n",
        "#--------------------------\n",
        "class squre(super):\n",
        "  def __init__(self,side) -> None:\n",
        "    self.side = side\n",
        "\n",
        "  def CaL_perimeter(self): # overriding\n",
        "    return self.side *4;\n",
        "\n",
        "  def CaL_area(self):\n",
        "    return self.side *self.side ;\n",
        "#--------------------------\n",
        "class Circle(super):\n",
        "  def __init__(self,N) -> None:\n",
        "    self.N =N\n",
        "\n",
        "  def CaL_perimeter(self):\n",
        "    return 3.14*self.N*2;\n",
        "\n",
        "  def CaL_area(self):\n",
        "    return (self.N*self.N)*3.14;"
      ],
      "metadata": {
        "id": "pbA06UhpEAk8"
      },
      "execution_count": null,
      "outputs": []
    },
    {
      "cell_type": "code",
      "source": [
        "x = int(input(\" Enter the radius to calculate the circle perimeter : \"))\n",
        "C = Circle(x)\n",
        "print(\"Circle perimeter :\",C.CaL_perimeter())\n",
        "y = int(input(\" Enter the side length to calculate the square perimeter : \"))\n",
        "S = squre(y)\n",
        "print(\"Circle perimeter :\",S.CaL_perimeter())\n",
        "print(C.t())"
      ],
      "metadata": {
        "id": "L7HmlmRmEGcT"
      },
      "execution_count": null,
      "outputs": []
    }
  ]
}
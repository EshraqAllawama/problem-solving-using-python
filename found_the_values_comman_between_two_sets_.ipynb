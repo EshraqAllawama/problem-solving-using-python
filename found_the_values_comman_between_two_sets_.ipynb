{
  "nbformat": 4,
  "nbformat_minor": 0,
  "metadata": {
    "colab": {
      "provenance": [],
      "authorship_tag": "ABX9TyMwgtvxPaCTshZtS9++pnrq",
      "include_colab_link": true
    },
    "kernelspec": {
      "name": "python3",
      "display_name": "Python 3"
    },
    "language_info": {
      "name": "python"
    }
  },
  "cells": [
    {
      "cell_type": "markdown",
      "metadata": {
        "id": "view-in-github",
        "colab_type": "text"
      },
      "source": [
        "<a href=\"https://colab.research.google.com/github/EshraqAllawama/problem-solving-using-python/blob/main/found_the_values_comman_between_two_sets_.ipynb\" target=\"_parent\"><img src=\"https://colab.research.google.com/assets/colab-badge.svg\" alt=\"Open In Colab\"/></a>"
      ]
    },
    {
      "cell_type": "code",
      "execution_count": null,
      "metadata": {
        "id": "JdXQOeNdjxI_"
      },
      "outputs": [],
      "source": [
        "#Task: Write a function that takes two sets and returns their union as a new set.\n",
        "#set\n",
        "def test (x,y):\n",
        " l = []\n",
        " for i in x:\n",
        "  l.append(i)\n",
        "\n",
        " for j in y:\n",
        "  if j not in l:\n",
        "     l.append(j)\n",
        " return  l\n",
        "  #  return x|y\n",
        "print(test([12,3,4],[3,2,4]))"
      ]
    }
  ]
}
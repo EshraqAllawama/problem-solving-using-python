{
  "nbformat": 4,
  "nbformat_minor": 0,
  "metadata": {
    "colab": {
      "provenance": [],
      "toc_visible": true,
      "authorship_tag": "ABX9TyPdkOiLTgECZQ8QmLpLdgeh",
      "include_colab_link": true
    },
    "kernelspec": {
      "name": "python3",
      "display_name": "Python 3"
    },
    "language_info": {
      "name": "python"
    }
  },
  "cells": [
    {
      "cell_type": "markdown",
      "metadata": {
        "id": "view-in-github",
        "colab_type": "text"
      },
      "source": [
        "<a href=\"https://colab.research.google.com/github/EshraqAllawama/problem-solving-using-python/blob/main/Condition_Loop_Function.ipynb\" target=\"_parent\"><img src=\"https://colab.research.google.com/assets/colab-badge.svg\" alt=\"Open In Colab\"/></a>"
      ]
    },
    {
      "cell_type": "markdown",
      "source": [
        "#condition"
      ],
      "metadata": {
        "id": "kbKd8KgX-QCV"
      }
    },
    {
      "cell_type": "code",
      "execution_count": null,
      "metadata": {
        "id": "vuQ1w9Sb92BW"
      },
      "outputs": [],
      "source": [
        "# 1) (po or ni)\n",
        "# 1) Write a program that checks if a number is negative, and prints \"The number is negative\" if it is.\n",
        "num0 = int(input(\"plz Enter number !! \"))\n",
        "\n",
        "if num0>0:\n",
        " print(\"The number is po\")\n",
        "elif num0<0:\n",
        " print(\"The number is ni\")\n",
        "else:\n",
        " print(\"The number is Zero\")\n"
      ]
    },
    {
      "cell_type": "code",
      "source": [
        "# 2) (even / odd)\n",
        "#Task 2) Write a program that checks if a number is odd, and prints \"The number is odd\" if it is.\n",
        "\n",
        "n = int(input(\"plz Enter number !! \"))\n",
        "\n",
        "if n % 2 == 1:\n",
        "  print(\"this odd\")\n",
        "else:\n",
        "  print(\"this even\")\n"
      ],
      "metadata": {
        "id": "cxpocH-j-Bg8"
      },
      "execution_count": null,
      "outputs": []
    },
    {
      "cell_type": "code",
      "source": [
        "# 3) Determining price categories based on age for a theme park\n",
        "# if age under 5, price 0,\n",
        "# age between 6 and 12  -> price 10\n",
        "# age between 13 and 65 -> price 20\n",
        "# age above 65 -> price 15\n",
        "\n",
        "age = int(input(\"your age !! \"))\n",
        "\n",
        "if age<=5:\n",
        " print(\"price is 0\")\n",
        "elif 6<=age<=12:\n",
        "  print(\"price is 10\")\n",
        "elif 13<=age and age<65:\n",
        "  print(\"price is 20\")\n",
        "else:\n",
        "  print(\"price is 15\")\n"
      ],
      "metadata": {
        "id": "4KD9wrko-DZL"
      },
      "execution_count": null,
      "outputs": []
    },
    {
      "cell_type": "code",
      "source": [
        "# 4) Classifying a student's grade A, B, C, D, F\n",
        "grade = int(input(\"plz Enter your grade \"))\n",
        "\n",
        "if 90<=grade<=100:\n",
        " print(\"A\")\n",
        "elif 80<=grade and grade<90:\n",
        " print(\"B\")\n",
        "elif 70<=grade<80:\n",
        " print(\"C\")\n",
        "elif 60<=grade<70:\n",
        " print(\"D\")\n",
        "else:\n",
        " print(\"F\")\n"
      ],
      "metadata": {
        "id": "62n9nOpL-F0V"
      },
      "execution_count": null,
      "outputs": []
    },
    {
      "cell_type": "code",
      "source": [
        "# 5) check password\n",
        "# username = \"admin\"\n",
        "# password = \"123456\"\n",
        "\n",
        "u_1 = \"allawama\"\n",
        "p_1 = \"12@Ee\"\n",
        "u_2 =input(\"Username \")\n",
        "p_2 =input(\"Password\")\n",
        "\n",
        "if u_1 == u_2 and p_1 == p_2:\n",
        "  print(\"login :)\")\n",
        "else:\n",
        "  print(\"Try again :(\")\n",
        "\n"
      ],
      "metadata": {
        "id": "lKxI9Sn5-IkL"
      },
      "execution_count": null,
      "outputs": []
    },
    {
      "cell_type": "code",
      "source": [
        "# 6) dicount coupon\n",
        "# Discounts on a product based on a coupon code:DISCOUNT10 -> price - 10\n",
        "price_item = float(input(\"plz Price_item \"))\n",
        "coupon = input(\"Plz coupon code \")\n",
        "dicount_coupon = \"AA1320\"\n",
        "if (coupon == dicount_coupon):\n",
        "   print(\"you got the discount :)\")\n",
        "   print(\"Your discount 10% so price_item finally :\",end = \" \")\n",
        "   price_item-=(price_item/10)\n",
        "   print(price_item)\n",
        "else:\n",
        "  print(\"Sorry .. your coupon code Disabled :(\")\n"
      ],
      "metadata": {
        "id": "X-1sam1L-Kmj"
      },
      "execution_count": null,
      "outputs": []
    },
    {
      "cell_type": "markdown",
      "source": [
        "#Loop\n"
      ],
      "metadata": {
        "id": "peGrO6oX-Vb1"
      }
    },
    {
      "cell_type": "code",
      "source": [
        "# 1) Print the square of each number in the list [1, 2, 3, 4, 5].\n",
        "i = 0\n",
        "ls = [1, 2, 3, 4, 5]\n",
        "while i<5:\n",
        "  print(ls[i]*ls[i],end =\" \")\n",
        "  i+=1\n"
      ],
      "metadata": {
        "id": "i2LXmIap-gz7"
      },
      "execution_count": null,
      "outputs": []
    },
    {
      "cell_type": "code",
      "source": [
        "# 2) Print all numbers from 0 to 10 using a while loop.\n",
        "i = 0\n",
        "while i<11:\n",
        " print(i,end =\" \")\n",
        " i+=1"
      ],
      "metadata": {
        "id": "wpbyDK3N-k8S"
      },
      "execution_count": null,
      "outputs": []
    },
    {
      "cell_type": "code",
      "source": [
        "# 3) Count down from 10 to 1 and then print \"Blast off!\"\n",
        "i = 0\n",
        "while i<11:\n",
        " print(i,end = \" \")\n",
        " i+=1\n",
        "print(\"\\nBlast off!\")"
      ],
      "metadata": {
        "id": "HU4d6SOQ-njB"
      },
      "execution_count": null,
      "outputs": []
    },
    {
      "cell_type": "code",
      "source": [
        "# 4) Print all even numbers from the list [1, 2, 3, 4, 5, 6, 7, 8, 9, 10] in one line using a for loop.\n",
        "A = [1, 2, 3, 4, 5, 6, 7, 8, 9, 10]\n",
        "for i in A:print(i,end = \" \") if i%2 == 0 else print(end = \" \")"
      ],
      "metadata": {
        "id": "OiJcwV-I-rwN"
      },
      "execution_count": null,
      "outputs": []
    },
    {
      "cell_type": "markdown",
      "source": [
        "#Function"
      ],
      "metadata": {
        "id": "UawJD0Vm-w8E"
      }
    },
    {
      "cell_type": "code",
      "source": [
        "#Task 1: Write a program that takes two numbers as inputs from the user and prints their sum\n",
        "Sum = lambda x,y: x+y\n",
        "x = int(input(\"Enter value 1 :\"))\n",
        "y = int(input(\"Enter value 2 :\"))\n",
        "print(\"The total :\",Sum(x,y))"
      ],
      "metadata": {
        "id": "oHotbkOM-0zA"
      },
      "execution_count": null,
      "outputs": []
    },
    {
      "cell_type": "code",
      "source": [
        "#Task 2: Write a program that takes an integer input from the user. Use a for loop to print all numbers from that integer down to 0\n",
        "\n",
        "# num = 5\n",
        "def Fun(num):\n",
        " for i in range(num+1):\n",
        "  #print(i,end =\" \")\n",
        "  print(num)\n",
        "  num-=1\n",
        "\n",
        "num = int(input(\"Enter Value : \"))\n",
        "Fun(num)"
      ],
      "metadata": {
        "id": "1u5MoAxI-29P"
      },
      "execution_count": null,
      "outputs": []
    },
    {
      "cell_type": "code",
      "source": [
        "#Task 3: Write a program that takes an integer input from the user. Use a while loop to keep doubling the number until it is greater than 1000, then print the result\n",
        "def greater (num_1):\n",
        "  while(num_1 <1000):\n",
        "    num_1*=2\n",
        "  return num_1\n",
        "num_1 = int(input(\"Enter Value : \"))\n",
        "print(greater(num_1))"
      ],
      "metadata": {
        "id": "KAUwi82m-8YZ"
      },
      "execution_count": null,
      "outputs": []
    },
    {
      "cell_type": "code",
      "source": [
        "#Task 4: Write a function that takes a number as input and returns the square of the number. Use it in a program that takes an input from the user and prints the square.\n",
        "def square  (num_1):\n",
        "  num_1*=num_1\n",
        "  return num_1\n",
        "num_1 = int(input(\"Enter Value : \"))\n",
        "print(square(num_1))"
      ],
      "metadata": {
        "id": "iIaw5IjW_Aay"
      },
      "execution_count": null,
      "outputs": []
    },
    {
      "cell_type": "code",
      "source": [
        "#Task 5: Write a program that takes a number as input from the user. If the number is greater than 10, print \"Big number\". If the number is less than or equal to 10, print \"Small number\".\n",
        "def greater (num_1):\n",
        "  print(\"Big number\") if num_1>10 else print(\"Small number\")\n",
        "num_1 = int(input(\"Enter Value : \"))\n",
        "greater(num_1)"
      ],
      "metadata": {
        "id": "7Q9JoOhs_CS7"
      },
      "execution_count": null,
      "outputs": []
    },
    {
      "cell_type": "code",
      "source": [
        "#Task 6: Write a function that takes two numbers as inputs and returns their product. Use this function in a program that takes two inputs from the user and prints the product.\n",
        "def product (num_1,num_2):\n",
        " print(\"The product = \",num_1*num_2)\n",
        "num_1 = int(input(\"Enter First Value : \"))\n",
        "num_2 = int(input(\"Enter Second Value : \"))\n",
        "product(num_1,num_2)"
      ],
      "metadata": {
        "id": "CLPhnVMU_EWt"
      },
      "execution_count": null,
      "outputs": []
    },
    {
      "cell_type": "code",
      "source": [
        "#Task 7: Write a program that uses a while loop to take a number as input from the user, subtract 5, and print the result. Continue this until the result is less than 0.\n",
        "def subtract (num_1):\n",
        "  if num_1 != 0 :\n",
        "   while(num_1>0):\n",
        "    num_1-=5\n",
        "   print(\"The finally result :\", num_1)\n",
        "  else:\n",
        "    print(\"The value is not accepted !!\")\n",
        "\n",
        "\n",
        "num_1 = int(input(\"Enter Value : \"))\n",
        "subtract(num_1)"
      ],
      "metadata": {
        "id": "Gey9ulwQ_HSz"
      },
      "execution_count": null,
      "outputs": []
    },
    {
      "cell_type": "code",
      "source": [
        "#Task 8: Write a program that uses a for loop to take an integer input from the user and print the factorial of that number.\n",
        "def f (a):\n",
        " for i in range(a):\n",
        "  if i == 0:\n",
        "    continue\n",
        "  else:\n",
        "   a=a*(i)\n",
        "  # print(i ,end = \" \")\n",
        " return a\n",
        "#another Sloution\n",
        "def f (a):\n",
        " d = 1    # range(start,end,steps)\n",
        " for i in range(1,a+1):\n",
        "   #a=a*(i)\n",
        "   d*=i\n",
        "   print(i ,end = \" \")\n",
        " return d\n",
        "\n",
        "a = int(input(\"Enter Value : \"))\n",
        "\n",
        "print (\"Fectorial The number is = \",f(a))"
      ],
      "metadata": {
        "id": "BxdLCw1M_JQ3"
      },
      "execution_count": null,
      "outputs": []
    },
    {
      "cell_type": "code",
      "source": [
        "#Task 9: Write a program that takes a number as input from the user. If the number is positive, print \"Positive\". If the number is negative, print \"Negative\". If the number is zero, print \"Zero\".\n",
        "\n",
        "def ch (n1):\n",
        " if n1>0:\n",
        "  print(\" The Number is Positive\")\n",
        " elif n1<0:\n",
        "  print(\"The Number is negative \")\n",
        " else:\n",
        "  print(\"The Number is zero\")\n",
        "\n",
        "n1 = int(input(\"Enter Value : \"))\n",
        "ch(n1)\n",
        "\n"
      ],
      "metadata": {
        "id": "ageHZUP__LL2"
      },
      "execution_count": null,
      "outputs": []
    },
    {
      "cell_type": "code",
      "source": [
        "#Task 10: Write a lambda function that takes two numbers as inputs and returns their division as a floating-point number. Use this function in a program that takes two inputs from the user and prints the division.\n",
        "\n",
        "division = lambda x,y : print(\"division Result = {A:.2}\".format(A =x/y))\n",
        "\n",
        "x = float(input(\"Enter Value_1 : \"))\n",
        "y = float(input(\"Enter Value_2 : \"))\n",
        "\n",
        "\n",
        "division(x,y)\n"
      ],
      "metadata": {
        "id": "M4Ll39kj_NMp"
      },
      "execution_count": null,
      "outputs": []
    }
  ]
}
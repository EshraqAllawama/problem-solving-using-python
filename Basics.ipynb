{
  "nbformat": 4,
  "nbformat_minor": 0,
  "metadata": {
    "colab": {
      "provenance": [],
      "authorship_tag": "ABX9TyPYq5J+fMkWxf7arF4YZJot",
      "include_colab_link": true
    },
    "kernelspec": {
      "name": "python3",
      "display_name": "Python 3"
    },
    "language_info": {
      "name": "python"
    }
  },
  "cells": [
    {
      "cell_type": "markdown",
      "metadata": {
        "id": "view-in-github",
        "colab_type": "text"
      },
      "source": [
        "<a href=\"https://colab.research.google.com/github/EshraqAllawama/problem-solving-using-python/blob/main/Basics.ipynb\" target=\"_parent\"><img src=\"https://colab.research.google.com/assets/colab-badge.svg\" alt=\"Open In Colab\"/></a>"
      ]
    },
    {
      "cell_type": "code",
      "execution_count": null,
      "metadata": {
        "id": "nPwuG0a-6pij"
      },
      "outputs": [],
      "source": [
        "# The First Task\n",
        "# Task: Write single-line and multi-line comments explaining what the provided piece of code does.\n",
        "'''\n",
        " if enter 0 return 1 else\n",
        " calculate Factorial The number Enterd\n",
        "'''\n",
        "# the run last commend \"\"\" ''' if exist Many commends"
      ]
    },
    {
      "cell_type": "code",
      "source": [
        "# The Second Task\n",
        "# Task: Use the print function to display the phrase \"Hello, Python!\"\n",
        "print(\"Hello,Python!.\")"
      ],
      "metadata": {
        "id": "-CRvGKsR9JUZ"
      },
      "execution_count": null,
      "outputs": []
    },
    {
      "cell_type": "code",
      "source": [
        "# The Third Task\n",
        "# Basic data types - CRUD operations:\n",
        "# Task: Create variables of each basic data type (integer, float, boolean, string), print their types using type(), update their values, and then delete them\n",
        "name = \"Eshraq\"\n",
        "number_f = 3.22\n",
        "number_int = 54\n",
        "cho_b = False\n",
        "print(type(name))\n",
        "print(type(number_f))\n",
        "print(type(number_int))\n",
        "print(type(cho_b))\n",
        "\n",
        "name = 32\n",
        "number_f = True\n",
        "number_int = \"Eshraq\"\n",
        "cho_b = 44.9\n",
        "\n",
        "del name\n",
        "del number_f\n",
        "del number_int\n",
        "del cho_b\n"
      ],
      "metadata": {
        "id": "CJmPti6P9Mn5"
      },
      "execution_count": null,
      "outputs": []
    },
    {
      "cell_type": "code",
      "source": [
        "# The Fourth Task\n",
        "# Math operations: Task: Write a script that asks the user for two numbers, then calculates and prints the sum,\n",
        "# difference, product, quotient, and remainder of the first number by the second number\n",
        "number1 = (int(input(\"Plz Enter The First value :\")))\n",
        "number2 = (int(input(\"Plz Enter The Second value :\")))\n",
        "print(number1+number2)\n",
        "print(number1-number2)\n",
        "print(number1/number2)\n",
        "print(number1*number2)\n",
        "print(number1//number2)\n",
        "print(number1**number2)"
      ],
      "metadata": {
        "id": "Xm-ZENH-9NXH"
      },
      "execution_count": null,
      "outputs": []
    },
    {
      "cell_type": "code",
      "source": [
        "# The Fifth Task\n",
        "# Logic operations:\n",
        "# Task: Write a script that asks the user for two boolean values (input as true/false strings),\n",
        "# then prints the results of the logical AND, logical OR, and logical NOT operations on the entered values\n",
        "value1 = bool(int(input(\"Plz Enter The First value :\")))\n",
        "value2 = bool(int(input(\"Plz Enter The Second value :\")))\n",
        "print(value1)\n",
        "print(value2 , end =\"\\n----------------\\n\")\n",
        "print(value1 or value2)\n",
        "print(value1 and value2)\n",
        "print(not value1)"
      ],
      "metadata": {
        "id": "C_BOc0HI9TQ9"
      },
      "execution_count": null,
      "outputs": []
    },
    {
      "cell_type": "code",
      "source": [
        "# The sixth Task\n",
        "# Input:\n",
        "# Task: Write a program that asks the user for their name and age,\n",
        "# and then prints out a message addressed to them that tells them how many years they have until they turn 100.\n",
        "name = (input(\"Plz Enter Your name :\"))\n",
        "age = (int(input(\"Plz Enter Your age :\")))\n",
        "age = 100-age\n",
        "#age-=100 -> age = age-100 -> logical Error\n",
        "\n",
        "print(\"Hi {A} \\n There is still life left to reach 100 years {B}\".format(A=name,B = age))\n"
      ],
      "metadata": {
        "id": "j8T_SQPI9VLk"
      },
      "execution_count": null,
      "outputs": []
    },
    {
      "cell_type": "code",
      "source": [
        "# The seventh Task\n",
        "# print(f\" {}\"):\n",
        "# Task: Write a script that asks the user for their name and favorite food. Then,\n",
        "# use an f-string to print a message saying \"{name} likes {favorite_food}\"\n",
        "name = (input(\"Plz Enter Your name :\"))\n",
        "Favorite_food = (input(\"Plz Enter Your Favorite_food :\"))\n",
        "print(f\"{name} likes {Favorite_food}\")\n"
      ],
      "metadata": {
        "id": "XUe32bTL9XID"
      },
      "execution_count": null,
      "outputs": []
    }
  ]
}
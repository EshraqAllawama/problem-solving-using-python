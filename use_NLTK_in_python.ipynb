{
  "nbformat": 4,
  "nbformat_minor": 0,
  "metadata": {
    "colab": {
      "provenance": [],
      "authorship_tag": "ABX9TyMfF47oDOxu4woSn6visrQ7",
      "include_colab_link": true
    },
    "kernelspec": {
      "name": "python3",
      "display_name": "Python 3"
    },
    "language_info": {
      "name": "python"
    }
  },
  "cells": [
    {
      "cell_type": "markdown",
      "metadata": {
        "id": "view-in-github",
        "colab_type": "text"
      },
      "source": [
        "<a href=\"https://colab.research.google.com/github/EshraqAllawama/problem-solving-using-python/blob/main/use_NLTK_in_python.ipynb\" target=\"_parent\"><img src=\"https://colab.research.google.com/assets/colab-badge.svg\" alt=\"Open In Colab\"/></a>"
      ]
    },
    {
      "cell_type": "code",
      "execution_count": 1,
      "metadata": {
        "id": "JXZ8XwYuKDat",
        "colab": {
          "base_uri": "https://localhost:8080/"
        },
        "outputId": "58b72dfb-5a17-458e-fcbf-b81fbe3881c9"
      },
      "outputs": [
        {
          "output_type": "stream",
          "name": "stderr",
          "text": [
            "[nltk_data] Downloading package wordnet to /root/nltk_data...\n"
          ]
        },
        {
          "output_type": "stream",
          "name": "stdout",
          "text": [
            "Enter your word :hello\n",
            "[Synset('hello.n.01')]\n"
          ]
        }
      ],
      "source": [
        "from nltk.corpus import wordnet as wo\n",
        "import nltk\n",
        "nltk.download(\"wordnet\")\n",
        "\n",
        "word = input(\"Enter your word :\") # For Example enter The hello word\n",
        "groups = wo.synsets(word)\n",
        "#print(groups)\n",
        "\n",
        "def get_Name(l1):\n",
        " for i in l1:\n",
        "    print(i)\n",
        "\n",
        "def get_example(l2):\n",
        " j = 1\n",
        " for i in l2:\n",
        "    print(\"Ex \",j,\":\",i)\n",
        "    j+=1\n",
        "def get_defintion(l3):\n",
        "  for i in l3:\n",
        "    print(\"defintion:\",i)\n",
        "\n",
        "def get_lemmas(l4):\n",
        "  j = 1\n",
        "  for i in l4:\n",
        "    print(\"Synonym \",j,\":\",i)\n",
        "    j+=1\n",
        "def get_pos(l5):\n",
        "  match l5:\n",
        "    case \"n\":\n",
        "        print(\"The type of Word is : Noun\")\n",
        "    case \"v\":\n",
        "        print(\"The type of Word is : verb\")\n",
        "    case \"a\":\n",
        "        print(\"The type of Word is : Adjective\")\n",
        "    case \"r\":\n",
        "        print(\"The type of Word is : Adverb\")\n",
        "\n"
      ]
    },
    {
      "cell_type": "code",
      "source": [
        "l1 = []\n",
        "l2 = []\n",
        "l3 = []\n",
        "l4 = []\n",
        "l5 = \"none\"\n",
        "i = 0\n",
        "for g in groups:\n",
        "    if i <1:\n",
        "     l1.append(g.name())\n",
        "     l2 = [ i for i in g.examples() if g.examples()]\n",
        "     l3.append(g.definition())\n",
        "     l4 = [ i.name() for i in g.lemmas()]\n",
        "     l5 = g.pos()\n",
        "    i+=1\n",
        "get_Name(l1)\n",
        "get_defintion(l3)\n",
        "get_example(l2)\n",
        "get_lemmas(l4)\n",
        "get_pos(l5)"
      ],
      "metadata": {
        "colab": {
          "base_uri": "https://localhost:8080/"
        },
        "id": "6lGMuiSdEnSI",
        "outputId": "80e372db-ed58-47ea-9d16-0aa86aac5aac"
      },
      "execution_count": 2,
      "outputs": [
        {
          "output_type": "stream",
          "name": "stdout",
          "text": [
            "hello.n.01\n",
            "defintion: an expression of greeting\n",
            "Ex  1 : every morning they exchanged polite hellos\n",
            "Synonym  1 : hello\n",
            "Synonym  2 : hullo\n",
            "Synonym  3 : hi\n",
            "Synonym  4 : howdy\n",
            "Synonym  5 : how-do-you-do\n",
            "The type of Word is : Noun\n"
          ]
        }
      ]
    }
  ]
}
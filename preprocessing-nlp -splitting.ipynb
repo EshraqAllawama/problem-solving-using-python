{
  "nbformat": 4,
  "nbformat_minor": 0,
  "metadata": {
    "colab": {
      "provenance": []
    },
    "kernelspec": {
      "name": "python3",
      "display_name": "Python 3"
    },
    "language_info": {
      "name": "python"
    }
  },
  "cells": [
    {
      "cell_type": "code",
      "execution_count": 1,
      "metadata": {
        "id": "3ewmLORl7hTg"
      },
      "outputs": [],
      "source": [
        "def split_eshraq(text_e,split_e =\" \"):\n",
        "  current_word =\"\"\n",
        "  words = []\n",
        "  for char in text_e:\n",
        "      if char == split_e:\n",
        "          if current_word:\n",
        "              words.append(current_word)\n",
        "              current_word =\"\"\n",
        "      else:\n",
        "          current_word += char\n",
        "\n",
        "  if current_word:\n",
        "      words.append(current_word)\n",
        "  return words"
      ]
    },
    {
      "cell_type": "code",
      "source": [
        "split_eshraq(\" My name is Eshraq , I am 21\",\",\")"
      ],
      "metadata": {
        "colab": {
          "base_uri": "https://localhost:8080/"
        },
        "id": "XGtO6xkq7syE",
        "outputId": "35bd366a-d346-4d8f-8b29-e1714d9e1a2f"
      },
      "execution_count": 2,
      "outputs": [
        {
          "output_type": "execute_result",
          "data": {
            "text/plain": [
              "[' My name is Eshraq ', ' I am 21']"
            ]
          },
          "metadata": {},
          "execution_count": 2
        }
      ]
    }
  ]
}
{
  "nbformat": 4,
  "nbformat_minor": 0,
  "metadata": {
    "colab": {
      "provenance": []
    },
    "kernelspec": {
      "name": "python3",
      "display_name": "Python 3"
    },
    "language_info": {
      "name": "python"
    }
  },
  "cells": [
    {
      "cell_type": "code",
      "execution_count": null,
      "metadata": {
        "id": "X2dESfGU1f6r"
      },
      "outputs": [],
      "source": [
        "# Consider a list (list = []). You can perform the following commands:\n",
        "\n",
        "# insert i e: Insert integer  at position .\n",
        "# print: Print the list.\n",
        "# remove e: Delete the first occurrence of integer .\n",
        "# append e: Insert integer  at the end of the list.\n",
        "# sort: Sort the list.\n",
        "# pop: Pop the last element from the list.\n",
        "# reverse: Reverse the list."
      ]
    },
    {
      "cell_type": "code",
      "source": [
        "my_lis = []\n",
        "n = int(input())\n",
        "\n",
        "for i in range(n):\n",
        "    oper, *args = input().split()\n",
        "\n",
        "    if len(args) == 2:\n",
        "        x, y = map(int, args)\n",
        "        my_lis.insert(x, y)\n",
        "\n",
        "    elif len(args) == 1:\n",
        "        x = int(args[0])\n",
        "        if oper == 'append':\n",
        "            # x = map(int, args)\n",
        "            my_lis.append(x)\n",
        "        else:\n",
        "            my_lis.remove(x)\n",
        "\n",
        "    elif oper == 'sort':\n",
        "        my_lis.sort()\n",
        "\n",
        "    elif oper == 'pop':\n",
        "        my_lis.pop()\n",
        "\n",
        "    elif oper == 'reverse':\n",
        "        my_lis.reverse()\n",
        "\n",
        "    elif oper == 'print':\n",
        "        print(my_lis)\n"
      ],
      "metadata": {
        "id": "gtDe9GNe1_Bm"
      },
      "execution_count": null,
      "outputs": []
    }
  ]
}
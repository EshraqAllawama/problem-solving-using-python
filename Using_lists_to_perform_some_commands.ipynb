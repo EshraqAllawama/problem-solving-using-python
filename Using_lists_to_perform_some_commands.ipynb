{
  "nbformat": 4,
  "nbformat_minor": 0,
  "metadata": {
    "colab": {
      "provenance": [],
      "authorship_tag": "ABX9TyN8Dzwfd+XauVKfpwlavGgo",
      "include_colab_link": true
    },
    "kernelspec": {
      "name": "python3",
      "display_name": "Python 3"
    },
    "language_info": {
      "name": "python"
    }
  },
  "cells": [
    {
      "cell_type": "markdown",
      "metadata": {
        "id": "view-in-github",
        "colab_type": "text"
      },
      "source": [
        "<a href=\"https://colab.research.google.com/github/EshraqAllawama/problem-solving-using-python/blob/main/Using_lists_to_perform_some_commands.ipynb\" target=\"_parent\"><img src=\"https://colab.research.google.com/assets/colab-badge.svg\" alt=\"Open In Colab\"/></a>"
      ]
    },
    {
      "cell_type": "code",
      "execution_count": null,
      "metadata": {
        "id": "X2dESfGU1f6r"
      },
      "outputs": [],
      "source": [
        "# Consider a list (list = []). You can perform the following commands:\n",
        "\n",
        "# insert i e: Insert integer  at position .\n",
        "# print: Print the list.\n",
        "# remove e: Delete the first occurrence of integer .\n",
        "# append e: Insert integer  at the end of the list.\n",
        "# sort: Sort the list.\n",
        "# pop: Pop the last element from the list.\n",
        "# reverse: Reverse the list."
      ]
    },
    {
      "cell_type": "code",
      "source": [
        "my_lis = []\n",
        "n = int(input())\n",
        "\n",
        "for i in range(n):\n",
        "    oper, *args = input().split()\n",
        "\n",
        "    if len(args) == 2:\n",
        "        x, y = map(int, args)\n",
        "        my_lis.insert(x, y)\n",
        "\n",
        "    elif len(args) == 1:\n",
        "        x = int(args[0])\n",
        "        if oper == 'append':\n",
        "            # x = map(int, args)\n",
        "            my_lis.append(x)\n",
        "        else:\n",
        "            my_lis.remove(x)\n",
        "\n",
        "    elif oper == 'sort':\n",
        "        my_lis.sort()\n",
        "\n",
        "    elif oper == 'pop':\n",
        "        my_lis.pop()\n",
        "\n",
        "    elif oper == 'reverse':\n",
        "        my_lis.reverse()\n",
        "\n",
        "    elif oper == 'print':\n",
        "        print(my_lis)\n"
      ],
      "metadata": {
        "id": "gtDe9GNe1_Bm",
        "colab": {
          "base_uri": "https://localhost:8080/"
        },
        "outputId": "da689087-0843-4be0-a8bb-e70dfb669b21"
      },
      "execution_count": 1,
      "outputs": [
        {
          "output_type": "stream",
          "name": "stdout",
          "text": [
            "3\n",
            "insert 4 5\n",
            "prnit\n",
            "print\n",
            "[5]\n"
          ]
        }
      ]
    }
  ]
}
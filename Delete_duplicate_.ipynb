{
  "nbformat": 4,
  "nbformat_minor": 0,
  "metadata": {
    "colab": {
      "provenance": [],
      "authorship_tag": "ABX9TyN4Xh6IBkRDMpM/XGnBPHvW",
      "include_colab_link": true
    },
    "kernelspec": {
      "name": "python3",
      "display_name": "Python 3"
    },
    "language_info": {
      "name": "python"
    }
  },
  "cells": [
    {
      "cell_type": "markdown",
      "metadata": {
        "id": "view-in-github",
        "colab_type": "text"
      },
      "source": [
        "<a href=\"https://colab.research.google.com/github/EshraqAllawama/problem-solving-using-python/blob/main/Delete_duplicate_.ipynb\" target=\"_parent\"><img src=\"https://colab.research.google.com/assets/colab-badge.svg\" alt=\"Open In Colab\"/></a>"
      ]
    },
    {
      "cell_type": "code",
      "execution_count": null,
      "metadata": {
        "id": "ARuoQ_nERlcF"
      },
      "outputs": [],
      "source": [
        "A = [1,2,1,1,5,7,8,9,10]\n",
        "#Delete duplicate\n",
        "B = []\n",
        "def test(A):\n",
        "  for i in range(0,9):\n",
        "      flag = False\n",
        "      for j in range(i+1,9):\n",
        "          if A[i] == A[j]:\n",
        "            flag = True\n",
        "            break\n",
        "      if not flag:\n",
        "            B.append(A[i])\n",
        "  return B\n",
        "print(test(A))"
      ]
    },
    {
      "cell_type": "code",
      "source": [
        "A = [1,2,1,1,5,7,8,9,10]\n",
        "#Delete duplicate\n",
        "#print(len(A))\n",
        "def remove_duplicates(A):\n",
        "  for i in range(len(A)):\n",
        "      for j in range(i+1,len(A)):\n",
        "            if A[i] == A[j]:\n",
        "             A.pop(i)\n",
        "             break\n",
        "  return A\n",
        "print(remove_duplicates(A))\n"
      ],
      "metadata": {
        "id": "sZNLmagmRprX"
      },
      "execution_count": null,
      "outputs": []
    }
  ]
}
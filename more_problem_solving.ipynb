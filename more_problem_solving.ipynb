{
  "nbformat": 4,
  "nbformat_minor": 0,
  "metadata": {
    "colab": {
      "provenance": [],
      "include_colab_link": true
    },
    "kernelspec": {
      "name": "python3",
      "display_name": "Python 3"
    },
    "language_info": {
      "name": "python"
    }
  },
  "cells": [
    {
      "cell_type": "markdown",
      "metadata": {
        "id": "view-in-github",
        "colab_type": "text"
      },
      "source": [
        "<a href=\"https://colab.research.google.com/github/EshraqAllawama/problem-solving-using-python/blob/main/more_problem_solving.ipynb\" target=\"_parent\"><img src=\"https://colab.research.google.com/assets/colab-badge.svg\" alt=\"Open In Colab\"/></a>"
      ]
    },
    {
      "cell_type": "markdown",
      "source": [
        "#Two Sum Problem\n",
        "Problem Statement: Given an array of integers nums and an integer target, return the indices of the two numbers such that they add up to target."
      ],
      "metadata": {
        "id": "Q79Nj2rVV1h7"
      }
    },
    {
      "cell_type": "code",
      "source": [
        "def two_sum(nums, target):\n",
        "    pass\n",
        "# assert two_sum([2,7,11,15], 9) == [0, 1]\n",
        "# assert two_sum([3,2,4], 6) == [1, 2]\n"
      ],
      "metadata": {
        "id": "qjvrau1MV7Rg"
      },
      "execution_count": null,
      "outputs": []
    },
    {
      "cell_type": "code",
      "source": [
        "def two_sum (nums,target):\n",
        "  s = []\n",
        "  for i in range(len(nums)-1):\n",
        "    for j in range(1,len(nums)):\n",
        "      if nums[i]+nums[j] == target:\n",
        "       s.extend(i,j)\n",
        "  return s"
      ],
      "metadata": {
        "id": "DyByAONMWAsi"
      },
      "execution_count": 64,
      "outputs": []
    },
    {
      "cell_type": "code",
      "source": [
        "print(two_sum([2,7,11,15], 9))\n",
        "print(two_sum([3,2,4], 6))"
      ],
      "metadata": {
        "id": "nXrHOw8lPWnT",
        "colab": {
          "base_uri": "https://localhost:8080/"
        },
        "outputId": "37e1f2e1-0b30-4527-bc04-66df498a9147"
      },
      "execution_count": 14,
      "outputs": [
        {
          "output_type": "stream",
          "name": "stdout",
          "text": [
            "[0, 1]\n",
            "[1, 2]\n"
          ]
        }
      ]
    },
    {
      "cell_type": "markdown",
      "source": [
        "# Check Palindrome\n",
        "Problem Statement: Given a string, determine if it is a palindrome. A palindrome reads the same backward as forward."
      ],
      "metadata": {
        "id": "FVAwRXQ9WBaZ"
      }
    },
    {
      "cell_type": "code",
      "source": [
        "def is_palindrome(s):\n",
        "    pass\n",
        "#assert is_palindrome(\"racecar\") == True\n",
        "#assert is_palindrome(\"hello\") == False\n"
      ],
      "metadata": {
        "id": "K4-C-J9_WFne"
      },
      "execution_count": null,
      "outputs": []
    },
    {
      "cell_type": "code",
      "source": [
        "def is_palindrome (s):\n",
        "  o = 0\n",
        "  for i in range(len(s)): #7\n",
        "    for j in range(len(s)-1,-1,-1):\n",
        "      if s[i] == s[j] and i<j:\n",
        "        o+=1\n",
        "  if o == len(s)//2:\n",
        "    return True\n",
        "  else :\n",
        "    return False\n"
      ],
      "metadata": {
        "id": "eTm6bLYVWJ5Q"
      },
      "execution_count": 45,
      "outputs": []
    },
    {
      "cell_type": "code",
      "source": [
        "def is_palindrome (s):\n",
        "  if s == s[::-1]:\n",
        "    return True\n",
        "  else:\n",
        "    return False"
      ],
      "metadata": {
        "id": "ER0m5aOdWDtl"
      },
      "execution_count": 65,
      "outputs": []
    },
    {
      "cell_type": "code",
      "source": [
        "print(is_palindrome(\"racecar\"))\n",
        "print(is_palindrome(\"hello\"))"
      ],
      "metadata": {
        "colab": {
          "base_uri": "https://localhost:8080/"
        },
        "id": "W3Bx5L55RJ1F",
        "outputId": "68afba9c-f6eb-478b-8a92-2a7eaa5eb5df"
      },
      "execution_count": 66,
      "outputs": [
        {
          "output_type": "stream",
          "name": "stdout",
          "text": [
            "True\n",
            "False\n"
          ]
        }
      ]
    },
    {
      "cell_type": "markdown",
      "source": [
        "#FizzBuzz\n",
        "Problem Statement: Write a program that outputs the string representation of numbers from 1 to n. But for multiples of three, it should output “Fizz” instead of the number, and for the multiples of five output “Buzz”. For numbers which are multiples of both three and five output “FizzBuzz”."
      ],
      "metadata": {
        "id": "wRF4-jIfWKDS"
      }
    },
    {
      "cell_type": "code",
      "source": [
        "def fizz_buzz(n):\n",
        "    pass\n",
        "#assert fizz_buzz(5) == [\"1\", \"2\", \"Fizz\", \"4\", \"Buzz\"]\n"
      ],
      "metadata": {
        "id": "sdgvNgqIWNzf"
      },
      "execution_count": null,
      "outputs": []
    },
    {
      "cell_type": "code",
      "source": [
        "def fizz_buzz(n):\n",
        " s = []\n",
        " for i in range(1,n+1):\n",
        "  if i%5 == 0:\n",
        "    s.append(\"Buzz\")\n",
        "  elif i%3 == 0:\n",
        "    s.append(\"Fizz\")\n",
        "  elif i%3 == 0 and i%5 == 0:\n",
        "    s.append(\"FizzBuzz\")\n",
        "  else:\n",
        "    s.append(str(i))\n",
        " return s"
      ],
      "metadata": {
        "id": "qVgbsAUHWROo"
      },
      "execution_count": 49,
      "outputs": []
    },
    {
      "cell_type": "code",
      "source": [
        "print(fizz_buzz(int(input(\"Number : \"))))"
      ],
      "metadata": {
        "id": "02RJuxi_UEmr"
      },
      "execution_count": null,
      "outputs": []
    },
    {
      "cell_type": "markdown",
      "source": [
        "#Prime Number Checker\n",
        "Problem Statement: Determine if a given number n is prime."
      ],
      "metadata": {
        "id": "TTUEYMenWSZX"
      }
    },
    {
      "cell_type": "code",
      "source": [
        "def is_prime(n):\n",
        "    pass\n",
        "#assert is_prime(2) == True\n",
        "#assert is_prime(4) == False\n"
      ],
      "metadata": {
        "id": "d6NkkeMIWV2O"
      },
      "execution_count": null,
      "outputs": []
    },
    {
      "cell_type": "code",
      "source": [
        "def is_prime(n):\n",
        "  if n == 2  or n == 3 :\n",
        "      return True\n",
        "  else:\n",
        "      if n%2 == 0 or n%3 == 0 or n%5 == 0 :\n",
        "        return False\n",
        "      else:\n",
        "        return True"
      ],
      "metadata": {
        "id": "1pUdbCaeWV8L"
      },
      "execution_count": 69,
      "outputs": []
    },
    {
      "cell_type": "code",
      "source": [
        "def is_prime(n):\n",
        "  basic_prime = [2,3]\n",
        "  if n in basic_prime:\n",
        "    True\n",
        "  else:\n",
        "    for i in (2,n):\n",
        "      if n%i == 0:\n",
        "        return False\n",
        "      else:\n",
        "        return True\n",
        "\n"
      ],
      "metadata": {
        "id": "hU5ryg3VW0zh"
      },
      "execution_count": 80,
      "outputs": []
    },
    {
      "cell_type": "code",
      "source": [
        "print(is_prime(int(input(\"Number: \"))))\n"
      ],
      "metadata": {
        "id": "PmMUZUxJVtXN"
      },
      "execution_count": null,
      "outputs": []
    },
    {
      "cell_type": "markdown",
      "source": [
        "#Factorial Computation\n",
        "Problem Statement: Using loops, compute the factorial of a number n."
      ],
      "metadata": {
        "id": "SOrDmpO3WaVW"
      }
    },
    {
      "cell_type": "code",
      "source": [
        "def factorial(n):\n",
        "    pass\n",
        "#assert factorial(5) == 120\n",
        "#assert factorial(0) == 1\n"
      ],
      "metadata": {
        "id": "a4cxIX7dWdfo"
      },
      "execution_count": null,
      "outputs": []
    },
    {
      "cell_type": "code",
      "source": [
        "def factorial(n):\n",
        "  f = 1\n",
        "  for i in range(1,n+1):\n",
        "     f*=i\n",
        "  return f"
      ],
      "metadata": {
        "id": "Rm0NlPPXWlnm"
      },
      "execution_count": 77,
      "outputs": []
    },
    {
      "cell_type": "code",
      "source": [
        "print(factorial(5)) # == 120\n",
        "print(factorial(0)) # == 1"
      ],
      "metadata": {
        "colab": {
          "base_uri": "https://localhost:8080/"
        },
        "id": "esJqHAPLXW_a",
        "outputId": "53bf2b19-d44f-45e8-f0d2-43029403f239"
      },
      "execution_count": 78,
      "outputs": [
        {
          "output_type": "stream",
          "name": "stdout",
          "text": [
            "120\n",
            "1\n"
          ]
        }
      ]
    },
    {
      "cell_type": "markdown",
      "source": [
        "#Roman to Integer\n",
        "Problem Statement: Convert a Roman numeral s to an integer."
      ],
      "metadata": {
        "id": "Bst4ujwKWlyy"
      }
    },
    {
      "cell_type": "code",
      "source": [
        "def roman_to_int(s):\n",
        "    pass\n",
        "#assert roman_to_int(\"III\") == 3\n",
        "#assert roman_to_int(\"IV\") == 4\n"
      ],
      "metadata": {
        "id": "4HuZfAtCWpGU"
      },
      "execution_count": null,
      "outputs": []
    },
    {
      "cell_type": "code",
      "source": [
        "def  roman_to_int(s):\n",
        "   if \"V\" in s:\n",
        "    if \"V\" in s and \"I\" in s and s.count(\"I\") == 1:\n",
        "         if \"V\" in s[0]:\n",
        "          return 6\n",
        "         else:\n",
        "          return 4\n",
        "    else:\n",
        "     return s.count(\"I\")+5\n",
        "   elif \"X\" in s:\n",
        "    return 10-s.count(\"I\")\n",
        "   elif \"I\" in s:\n",
        "    return s.count(\"I\")\n",
        ""
      ],
      "metadata": {
        "id": "DtVJ_543Wpa2"
      },
      "execution_count": 28,
      "outputs": []
    },
    {
      "cell_type": "code",
      "source": [
        "print(roman_to_int(input(\"\")))"
      ],
      "metadata": {
        "id": "LGiu0zfwJEoU"
      },
      "execution_count": null,
      "outputs": []
    },
    {
      "cell_type": "markdown",
      "source": [
        "#List Overlap\n",
        "Problem Statement: Given two lists, find and return the common elements between them in a new list. The elements in the output list should not repeat."
      ],
      "metadata": {
        "id": "sciQK6N-Wu5a"
      }
    },
    {
      "cell_type": "code",
      "source": [
        "def find_common(nums1, nums2):\n",
        "    pass\n",
        "#assert find_common([1,2,2,1], [2,2]) == [2]\n",
        "#assert find_common([4,9,5], [9,4,9,8,4]) == [4,9]\n"
      ],
      "metadata": {
        "id": "AMNuD1LQWx1-"
      },
      "execution_count": null,
      "outputs": []
    },
    {
      "cell_type": "code",
      "source": [
        "def find_common(nums1, nums2):\n",
        " l = []\n",
        " for i in range(len(nums1)):\n",
        "  for j in range(len(nums2)):\n",
        "    if nums1[i] == nums2[j]:\n",
        "\n",
        "      if nums1[i] not in l:\n",
        "       l.append(nums1[i])\n",
        " return l"
      ],
      "metadata": {
        "id": "PWgCuyAJWx91"
      },
      "execution_count": 62,
      "outputs": []
    },
    {
      "cell_type": "code",
      "source": [
        "print(find_common([1,2,2,1], [2,2]))# == [2]\n",
        "print(find_common([4,9,5], [9,4,9,8,4]))#== [4,9]"
      ],
      "metadata": {
        "id": "mmtMAdiiRDK5"
      },
      "execution_count": null,
      "outputs": []
    }
  ]
}
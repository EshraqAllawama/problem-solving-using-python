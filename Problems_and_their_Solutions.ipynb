{
  "nbformat": 4,
  "nbformat_minor": 0,
  "metadata": {
    "colab": {
      "provenance": [],
      "authorship_tag": "ABX9TyObYmo4rXXb7uu9lCt1augl",
      "include_colab_link": true
    },
    "kernelspec": {
      "name": "python3",
      "display_name": "Python 3"
    },
    "language_info": {
      "name": "python"
    }
  },
  "cells": [
    {
      "cell_type": "markdown",
      "metadata": {
        "id": "view-in-github",
        "colab_type": "text"
      },
      "source": [
        "<a href=\"https://colab.research.google.com/github/EshraqAllawama/problem-solving-using-python/blob/main/Problems_and_their_Solutions.ipynb\" target=\"_parent\"><img src=\"https://colab.research.google.com/assets/colab-badge.svg\" alt=\"Open In Colab\"/></a>"
      ]
    },
    {
      "cell_type": "code",
      "execution_count": null,
      "metadata": {
        "colab": {
          "base_uri": "https://localhost:8080/"
        },
        "id": "tRdUdOJd2bmW",
        "outputId": "3b568e63-140b-4f1d-db65-5bb254778aed"
      },
      "outputs": [
        {
          "output_type": "stream",
          "name": "stdout",
          "text": [
            "2401\n"
          ]
        }
      ],
      "source": [
        "# What is 7 to the power of 4?**\n",
        "print(pow(7,4))"
      ]
    },
    {
      "cell_type": "code",
      "source": [
        "#Split this string:**\n",
        "s = \"Hi there Sam!\"\n",
        "print(s.split())"
      ],
      "metadata": {
        "colab": {
          "base_uri": "https://localhost:8080/"
        },
        "id": "aJ5hejF92nZB",
        "outputId": "2136289f-9122-4a44-9c0d-16d8c030501c"
      },
      "execution_count": null,
      "outputs": [
        {
          "output_type": "stream",
          "name": "stdout",
          "text": [
            "['Hi', 'there', 'Sam!']\n"
          ]
        }
      ]
    },
    {
      "cell_type": "code",
      "source": [
        "#Given the variables:\n",
        "planet = \"Earth\"\n",
        "diameter = 12742\n",
        "#Use .format() to print the following string: **\n",
        "print(f\"The diameter of the {planet} is {diameter} killometers\")"
      ],
      "metadata": {
        "id": "RRUo_pX52yrq"
      },
      "execution_count": null,
      "outputs": []
    },
    {
      "cell_type": "code",
      "source": [
        "# Given this nested list, use indexing to grab the word \"hello\"\n",
        "lst = [1,2,[3,4],[5,[100,200,['hello']],23,11],1,7]\n",
        "print(lst[3][1][2][0])"
      ],
      "metadata": {
        "id": "PRnTCUXa3V0G"
      },
      "execution_count": null,
      "outputs": []
    },
    {
      "cell_type": "code",
      "source": [
        "#Given this nested dictionary grab the word \"hello\". Be prepared, this will be annoying/tricky\n",
        "d = {'k1':[1,2,3,{'tricky':['oh','man','inception',{'target':[1,2,3,'hello']}]}]}\n",
        "print(d[\"k1\"][3]['tricky'][3][\"target\"][3])"
      ],
      "metadata": {
        "id": "ja4IW80P37y6"
      },
      "execution_count": null,
      "outputs": []
    },
    {
      "cell_type": "code",
      "source": [
        "#What is the main difference between a tuple and a list?\n",
        "\"\"\"\n",
        "list is mutable -> unhashable\n",
        "tuple is immutable   -> hashable\n",
        "\"\"\"\n"
      ],
      "metadata": {
        "id": "NU32M4bR4jIH"
      },
      "execution_count": null,
      "outputs": []
    },
    {
      "cell_type": "code",
      "source": [
        "from posixpath import split\n",
        "#Create a function that grabs the email website domain from a string in the form:\n",
        "#So for example, passing \"user@domain.com\" would return: domain.com\n",
        "def grabs_the_email ():\n",
        "  return \"user@domain.com\".split(\"@\")[1]\n",
        "print(grabs_the_email())"
      ],
      "metadata": {
        "colab": {
          "base_uri": "https://localhost:8080/"
        },
        "id": "YkH5O9WX5gAn",
        "outputId": "c9a1f315-252e-420d-b359-f9a961e0a597"
      },
      "execution_count": null,
      "outputs": [
        {
          "output_type": "stream",
          "name": "stdout",
          "text": [
            "domain.com\n"
          ]
        }
      ]
    },
    {
      "cell_type": "code",
      "source": [
        "print(\"user@domain.com\".split(\"@\")[1]) #->without Fun"
      ],
      "metadata": {
        "colab": {
          "base_uri": "https://localhost:8080/"
        },
        "id": "wqzN1shv6mmH",
        "outputId": "f70d1a8a-464d-43f7-96ae-1042d89abf77"
      },
      "execution_count": null,
      "outputs": [
        {
          "output_type": "stream",
          "name": "stdout",
          "text": [
            "domain.com\n"
          ]
        }
      ]
    },
    {
      "cell_type": "code",
      "source": [
        "#Create a basic function that returns True if the word 'dog' is contained in the input string. Don't worry about edge cases like a punctuation being attached to the word dog, but do account for capitalization.\n",
        "findDog ='Is there a dog here?'\n",
        "def Animal(dog):\n",
        "  return dog in findDog\n",
        "\n",
        "print(Animal(input(\"Enter the Name os an Animal :) \")))"
      ],
      "metadata": {
        "id": "JYLk0hZo9eHT"
      },
      "execution_count": null,
      "outputs": []
    },
    {
      "cell_type": "code",
      "source": [
        "#Create a function that counts the number of times the word \"dog\" occurs in a string. Again ignore edge cases\n",
        "findDog = 'This dog runs faster than the other dog dude!'\n",
        "def N_Animal(dog):\n",
        "  return findDog.count(\"dog\")\n",
        "\n",
        "print(N_Animal(input(\"Enter the Name os an Animal :) \")))"
      ],
      "metadata": {
        "id": "BuOKYyNH-Um2"
      },
      "execution_count": null,
      "outputs": []
    },
    {
      "cell_type": "code",
      "source": [
        "#Use lambda expressions and the filter() function to filter out words from a list that don't start with the letter 's'. For example:\n",
        "seq = ['soup','dog','salad','cat','great']\n",
        "\n",
        "seq_word = list(filter(lambda word :  word[0] == \"s\" ,seq))\n",
        "print(seq_word)"
      ],
      "metadata": {
        "colab": {
          "base_uri": "https://localhost:8080/"
        },
        "id": "9PqAU6blSEwc",
        "outputId": "32dd8c81-91f0-44b7-d54b-58da1d1a0565"
      },
      "execution_count": null,
      "outputs": [
        {
          "output_type": "stream",
          "name": "stdout",
          "text": [
            "['soup', 'salad'] ['soup', 'dog', 'salad', 'cat', 'great']\n"
          ]
        }
      ]
    },
    {
      "cell_type": "markdown",
      "source": [
        "You are driving a little too fast, and a police officer stops you. Write a function to return one of 3 possible results: \"No ticket\", \"Small ticket\", or \"Big Ticket\". If your speed is 60 or less, the result is \"No Ticket\". If speed is between 61 and 80 inclusive, the result is \"Small Ticket\". If speed is 81 or more, the result is \"Big Ticket\". Unless it is your birthday (encoded as a boolean value in the parameters of the function) -- on your birthday, your speed can be 5 higher in all cases."
      ],
      "metadata": {
        "id": "kc0JryshUKOB"
      }
    },
    {
      "cell_type": "code",
      "source": [
        "def speed (s,x):\n",
        "  s =  s+5 if x else s\n",
        "  if s<=60:\n",
        "    return \"No Ticket !!\"\n",
        "  elif s>=61 and 80>=s:\n",
        "    return \"Small Ticket !!\"\n",
        "  else:\n",
        "    return \"Big Ticket !!\"\n"
      ],
      "metadata": {
        "id": "qEY2sz1TUIA_"
      },
      "execution_count": 30,
      "outputs": []
    },
    {
      "cell_type": "code",
      "source": [
        "print(\"= police officer : Today is your Birthday ?\")\n",
        "#The possibility of Birthday\n",
        "said = input(\"-\")\n",
        "if (said == \"yes\"):\n",
        " print(speed(int(input(\"= Police officer told \\nyou speed is : \")),int(True)))\n",
        "else:\n",
        " print(speed(int(input(\"= Police officer told \\nyou speed is : \")),int(False)))\n"
      ],
      "metadata": {
        "colab": {
          "base_uri": "https://localhost:8080/"
        },
        "id": "uBFRfq4_UOVJ",
        "outputId": "3b8f226a-cfc6-4ccd-c72b-540e49e295d5"
      },
      "execution_count": 29,
      "outputs": [
        {
          "output_type": "stream",
          "name": "stdout",
          "text": [
            "= police officer : Today is your Birthday ?\n",
            "-no\n",
            "= Police officer told \n",
            "you speed is : 81\n",
            "Big Ticket !!\n"
          ]
        }
      ]
    }
  ]
}